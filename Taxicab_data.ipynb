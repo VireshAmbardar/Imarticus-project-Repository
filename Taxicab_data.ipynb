{
 "cells": [
  {
   "cell_type": "code",
   "execution_count": 80,
   "metadata": {},
   "outputs": [],
   "source": [
    "import pandas as pd\n",
    "import numpy as np\n",
    "\n",
    "# Pandas display options\n",
    "pd.set_option('display.float_format', lambda x: '%.2f' % x)\n",
    "pd.set_option(\"display.max_rows\", 10)\n",
    "pd.set_option(\"display.max_columns\", 99)\n",
    "\n",
    "\n",
    "# Set random seed \n",
    "RSEED = 100\n",
    "\n",
    "# Visualizations\n",
    "import matplotlib.pyplot as plt\n",
    "import numpy as np\n",
    "import pandas as pd\n",
    "import matplotlib.pyplot as plt\n",
    "import seaborn as sns\n",
    "import os"
   ]
  },
  {
   "cell_type": "code",
   "execution_count": 81,
   "metadata": {},
   "outputs": [],
   "source": [
    "# pd.set_option"
   ]
  },
  {
   "cell_type": "code",
   "execution_count": 82,
   "metadata": {},
   "outputs": [],
   "source": [
    "os.chdir(r'D:\\Karan\\ML')"
   ]
  },
  {
   "cell_type": "code",
   "execution_count": 83,
   "metadata": {},
   "outputs": [],
   "source": [
    "data = pd.read_csv('TaxiFare1.csv', parse_dates = ['pickup_datetime']).drop(columns = 'key')"
   ]
  },
  {
   "cell_type": "code",
   "execution_count": 84,
   "metadata": {
    "scrolled": true
   },
   "outputs": [
    {
     "data": {
      "text/plain": [
       "fare_amount          0\n",
       "pickup_datetime      0\n",
       "pickup_longitude     0\n",
       "pickup_latitude      0\n",
       "dropoff_longitude    0\n",
       "dropoff_latitude     0\n",
       "passenger_count      0\n",
       "dtype: int64"
      ]
     },
     "execution_count": 84,
     "metadata": {},
     "output_type": "execute_result"
    }
   ],
   "source": [
    "data.isnull().sum()"
   ]
  },
  {
   "cell_type": "code",
   "execution_count": 85,
   "metadata": {},
   "outputs": [
    {
     "name": "stdout",
     "output_type": "stream",
     "text": [
      "<class 'pandas.core.frame.DataFrame'>\n",
      "RangeIndex: 100171 entries, 0 to 100170\n",
      "Data columns (total 7 columns):\n",
      " #   Column             Non-Null Count   Dtype              \n",
      "---  ------             --------------   -----              \n",
      " 0   fare_amount        100171 non-null  float64            \n",
      " 1   pickup_datetime    100171 non-null  datetime64[ns, UTC]\n",
      " 2   pickup_longitude   100171 non-null  float64            \n",
      " 3   pickup_latitude    100171 non-null  float64            \n",
      " 4   dropoff_longitude  100171 non-null  float64            \n",
      " 5   dropoff_latitude   100171 non-null  float64            \n",
      " 6   passenger_count    100171 non-null  int64              \n",
      "dtypes: datetime64[ns, UTC](1), float64(5), int64(1)\n",
      "memory usage: 5.3 MB\n"
     ]
    }
   ],
   "source": [
    "data.info()"
   ]
  },
  {
   "cell_type": "code",
   "execution_count": 86,
   "metadata": {},
   "outputs": [],
   "source": [
    "# data[\"pickup_datetime\"]=pd.to_datetime(data[\"pickup_datetime\"])"
   ]
  },
  {
   "cell_type": "markdown",
   "metadata": {},
   "source": [
    "### Describe the data "
   ]
  },
  {
   "cell_type": "code",
   "execution_count": 87,
   "metadata": {},
   "outputs": [
    {
     "data": {
      "text/plain": [
       "0.010981222110191572"
      ]
     },
     "execution_count": 87,
     "metadata": {},
     "output_type": "execute_result"
    }
   ],
   "source": [
    "(data[data[\"fare_amount\"]<=0].shape[0]/data.shape[0])*100"
   ]
  },
  {
   "cell_type": "code",
   "execution_count": 88,
   "metadata": {},
   "outputs": [
    {
     "data": {
      "text/html": [
       "<div>\n",
       "<style scoped>\n",
       "    .dataframe tbody tr th:only-of-type {\n",
       "        vertical-align: middle;\n",
       "    }\n",
       "\n",
       "    .dataframe tbody tr th {\n",
       "        vertical-align: top;\n",
       "    }\n",
       "\n",
       "    .dataframe thead th {\n",
       "        text-align: right;\n",
       "    }\n",
       "</style>\n",
       "<table border=\"1\" class=\"dataframe\">\n",
       "  <thead>\n",
       "    <tr style=\"text-align: right;\">\n",
       "      <th></th>\n",
       "      <th>count</th>\n",
       "      <th>mean</th>\n",
       "      <th>std</th>\n",
       "      <th>min</th>\n",
       "      <th>1%</th>\n",
       "      <th>2%</th>\n",
       "      <th>3%</th>\n",
       "      <th>4%</th>\n",
       "      <th>5%</th>\n",
       "      <th>6%</th>\n",
       "      <th>7%</th>\n",
       "      <th>50%</th>\n",
       "      <th>90%</th>\n",
       "      <th>95%</th>\n",
       "      <th>96%</th>\n",
       "      <th>97%</th>\n",
       "      <th>98%</th>\n",
       "      <th>99%</th>\n",
       "      <th>max</th>\n",
       "    </tr>\n",
       "  </thead>\n",
       "  <tbody>\n",
       "    <tr>\n",
       "      <th>fare_amount</th>\n",
       "      <td>100171.00</td>\n",
       "      <td>11.32</td>\n",
       "      <td>9.73</td>\n",
       "      <td>-6.00</td>\n",
       "      <td>3.30</td>\n",
       "      <td>3.50</td>\n",
       "      <td>3.70</td>\n",
       "      <td>4.00</td>\n",
       "      <td>4.10</td>\n",
       "      <td>4.10</td>\n",
       "      <td>4.50</td>\n",
       "      <td>8.50</td>\n",
       "      <td>20.50</td>\n",
       "      <td>30.10</td>\n",
       "      <td>33.30</td>\n",
       "      <td>38.00</td>\n",
       "      <td>45.83</td>\n",
       "      <td>52.00</td>\n",
       "      <td>325.00</td>\n",
       "    </tr>\n",
       "    <tr>\n",
       "      <th>pickup_longitude</th>\n",
       "      <td>100171.00</td>\n",
       "      <td>-72.52</td>\n",
       "      <td>10.67</td>\n",
       "      <td>-736.33</td>\n",
       "      <td>-74.01</td>\n",
       "      <td>-74.01</td>\n",
       "      <td>-74.01</td>\n",
       "      <td>-74.01</td>\n",
       "      <td>-74.01</td>\n",
       "      <td>-74.01</td>\n",
       "      <td>-74.01</td>\n",
       "      <td>-73.98</td>\n",
       "      <td>-73.95</td>\n",
       "      <td>-73.87</td>\n",
       "      <td>-73.86</td>\n",
       "      <td>-73.79</td>\n",
       "      <td>-73.64</td>\n",
       "      <td>0.00</td>\n",
       "      <td>351.05</td>\n",
       "    </tr>\n",
       "    <tr>\n",
       "      <th>pickup_latitude</th>\n",
       "      <td>100171.00</td>\n",
       "      <td>39.95</td>\n",
       "      <td>8.02</td>\n",
       "      <td>-74.02</td>\n",
       "      <td>0.00</td>\n",
       "      <td>40.61</td>\n",
       "      <td>40.65</td>\n",
       "      <td>40.68</td>\n",
       "      <td>40.70</td>\n",
       "      <td>40.71</td>\n",
       "      <td>40.71</td>\n",
       "      <td>40.75</td>\n",
       "      <td>40.78</td>\n",
       "      <td>40.79</td>\n",
       "      <td>40.79</td>\n",
       "      <td>40.79</td>\n",
       "      <td>40.80</td>\n",
       "      <td>40.81</td>\n",
       "      <td>1669.58</td>\n",
       "    </tr>\n",
       "    <tr>\n",
       "      <th>dropoff_longitude</th>\n",
       "      <td>100171.00</td>\n",
       "      <td>-72.51</td>\n",
       "      <td>11.78</td>\n",
       "      <td>-84.65</td>\n",
       "      <td>-74.02</td>\n",
       "      <td>-74.01</td>\n",
       "      <td>-74.01</td>\n",
       "      <td>-74.01</td>\n",
       "      <td>-74.01</td>\n",
       "      <td>-74.01</td>\n",
       "      <td>-74.01</td>\n",
       "      <td>-73.98</td>\n",
       "      <td>-73.95</td>\n",
       "      <td>-73.88</td>\n",
       "      <td>-73.86</td>\n",
       "      <td>-73.81</td>\n",
       "      <td>-73.69</td>\n",
       "      <td>0.00</td>\n",
       "      <td>1717.00</td>\n",
       "    </tr>\n",
       "    <tr>\n",
       "      <th>dropoff_latitude</th>\n",
       "      <td>100171.00</td>\n",
       "      <td>39.97</td>\n",
       "      <td>10.43</td>\n",
       "      <td>-74.01</td>\n",
       "      <td>0.00</td>\n",
       "      <td>40.59</td>\n",
       "      <td>40.65</td>\n",
       "      <td>40.67</td>\n",
       "      <td>40.69</td>\n",
       "      <td>40.70</td>\n",
       "      <td>40.70</td>\n",
       "      <td>40.75</td>\n",
       "      <td>40.78</td>\n",
       "      <td>40.79</td>\n",
       "      <td>40.80</td>\n",
       "      <td>40.80</td>\n",
       "      <td>40.81</td>\n",
       "      <td>40.83</td>\n",
       "      <td>1989.73</td>\n",
       "    </tr>\n",
       "    <tr>\n",
       "      <th>passenger_count</th>\n",
       "      <td>100171.00</td>\n",
       "      <td>1.68</td>\n",
       "      <td>1.30</td>\n",
       "      <td>0.00</td>\n",
       "      <td>1.00</td>\n",
       "      <td>1.00</td>\n",
       "      <td>1.00</td>\n",
       "      <td>1.00</td>\n",
       "      <td>1.00</td>\n",
       "      <td>1.00</td>\n",
       "      <td>1.00</td>\n",
       "      <td>1.00</td>\n",
       "      <td>4.00</td>\n",
       "      <td>5.00</td>\n",
       "      <td>5.00</td>\n",
       "      <td>5.00</td>\n",
       "      <td>6.00</td>\n",
       "      <td>6.00</td>\n",
       "      <td>9.00</td>\n",
       "    </tr>\n",
       "  </tbody>\n",
       "</table>\n",
       "</div>"
      ],
      "text/plain": [
       "                      count   mean   std     min     1%     2%     3%     4%  \\\n",
       "fare_amount       100171.00  11.32  9.73   -6.00   3.30   3.50   3.70   4.00   \n",
       "pickup_longitude  100171.00 -72.52 10.67 -736.33 -74.01 -74.01 -74.01 -74.01   \n",
       "pickup_latitude   100171.00  39.95  8.02  -74.02   0.00  40.61  40.65  40.68   \n",
       "dropoff_longitude 100171.00 -72.51 11.78  -84.65 -74.02 -74.01 -74.01 -74.01   \n",
       "dropoff_latitude  100171.00  39.97 10.43  -74.01   0.00  40.59  40.65  40.67   \n",
       "passenger_count   100171.00   1.68  1.30    0.00   1.00   1.00   1.00   1.00   \n",
       "\n",
       "                      5%     6%     7%    50%    90%    95%    96%    97%  \\\n",
       "fare_amount         4.10   4.10   4.50   8.50  20.50  30.10  33.30  38.00   \n",
       "pickup_longitude  -74.01 -74.01 -74.01 -73.98 -73.95 -73.87 -73.86 -73.79   \n",
       "pickup_latitude    40.70  40.71  40.71  40.75  40.78  40.79  40.79  40.79   \n",
       "dropoff_longitude -74.01 -74.01 -74.01 -73.98 -73.95 -73.88 -73.86 -73.81   \n",
       "dropoff_latitude   40.69  40.70  40.70  40.75  40.78  40.79  40.80  40.80   \n",
       "passenger_count     1.00   1.00   1.00   1.00   4.00   5.00   5.00   5.00   \n",
       "\n",
       "                     98%   99%     max  \n",
       "fare_amount        45.83 52.00  325.00  \n",
       "pickup_longitude  -73.64  0.00  351.05  \n",
       "pickup_latitude    40.80 40.81 1669.58  \n",
       "dropoff_longitude -73.69  0.00 1717.00  \n",
       "dropoff_latitude   40.81 40.83 1989.73  \n",
       "passenger_count     6.00  6.00    9.00  "
      ]
     },
     "execution_count": 88,
     "metadata": {},
     "output_type": "execute_result"
    }
   ],
   "source": [
    "data.describe(percentiles=[0.01, .02, .03, .04, .05, .06, .07, .9, .95,.96,.97, .98, .99]).T"
   ]
  },
  {
   "cell_type": "code",
   "execution_count": 89,
   "metadata": {},
   "outputs": [
    {
     "data": {
      "text/plain": [
       "(38, 7)"
      ]
     },
     "execution_count": 89,
     "metadata": {},
     "output_type": "execute_result"
    }
   ],
   "source": [
    "data1=data[data[\"fare_amount\"]>100]\n",
    "data1.shape"
   ]
  },
  {
   "cell_type": "markdown",
   "metadata": {},
   "source": [
    "### Univariate Analysis "
   ]
  },
  {
   "cell_type": "code",
   "execution_count": 90,
   "metadata": {},
   "outputs": [
    {
     "name": "stderr",
     "output_type": "stream",
     "text": [
      "C:\\Users\\Archit\\anaconda3\\envs\\AIlabs\\lib\\site-packages\\seaborn\\distributions.py:2557: FutureWarning: `distplot` is a deprecated function and will be removed in a future version. Please adapt your code to use either `displot` (a figure-level function with similar flexibility) or `histplot` (an axes-level function for histograms).\n",
      "  warnings.warn(msg, FutureWarning)\n"
     ]
    },
    {
     "data": {
      "image/png": "[encoded data removed]",
      "text/plain": [
       "<Figure size 720x432 with 1 Axes>"
      ]
     },
     "metadata": {
      "needs_background": "light"
     },
     "output_type": "display_data"
    }
   ],
   "source": [
    "plt.figure(figsize = (10, 6))\n",
    "sns.distplot(data['fare_amount']);\n",
    "plt.title('Distribution of Fare');\n",
    "plt.show()"
   ]
  },
  {
   "cell_type": "code",
   "execution_count": 91,
   "metadata": {},
   "outputs": [
    {
     "name": "stdout",
     "output_type": "stream",
     "text": [
      "there are 8 negatives\n"
     ]
    }
   ],
   "source": [
    "print(f\"there are {len(data[data['fare_amount']<0])} negatives\")"
   ]
  },
  {
   "cell_type": "code",
   "execution_count": 92,
   "metadata": {},
   "outputs": [
    {
     "name": "stdout",
     "output_type": "stream",
     "text": [
      "There are 8 negative fares.\n",
      "There are 3 $0 fares.\n",
      "There are 38 fares greater than $100.\n"
     ]
    }
   ],
   "source": [
    "print(f\"There are {len(data[data['fare_amount'] < 0])} negative fares.\")\n",
    "print(f\"There are {len(data[data['fare_amount'] == 0])} $0 fares.\") \n",
    "print(f\"There are {len(data[data['fare_amount'] > 100])} fares greater than $100.\")"
   ]
  },
  {
   "cell_type": "code",
   "execution_count": 93,
   "metadata": {},
   "outputs": [
    {
     "data": {
      "text/plain": [
       "0.05091293887452456"
      ]
     },
     "execution_count": 93,
     "metadata": {},
     "output_type": "execute_result"
    }
   ],
   "source": [
    "(51/100171 )*100"
   ]
  },
  {
   "cell_type": "code",
   "execution_count": 94,
   "metadata": {},
   "outputs": [],
   "source": [
    "# data33=data[(data[\"fare_amount\"]>=2.5) &(data[\"fare_amount\"]<=100) ]\n",
    "# data33.shape"
   ]
  },
  {
   "cell_type": "code",
   "execution_count": 96,
   "metadata": {},
   "outputs": [],
   "source": [
    "data = data[data['fare_amount'].between(left = 2.5, right = 100)] "
   ]
  },
  {
   "cell_type": "code",
   "execution_count": 97,
   "metadata": {},
   "outputs": [
    {
     "data": {
      "text/plain": [
       "(100119, 7)"
      ]
     },
     "execution_count": 97,
     "metadata": {},
     "output_type": "execute_result"
    }
   ],
   "source": [
    "data.shape"
   ]
  },
  {
   "cell_type": "code",
   "execution_count": 98,
   "metadata": {},
   "outputs": [],
   "source": [
    "# 100171-100119"
   ]
  },
  {
   "cell_type": "code",
   "execution_count": 99,
   "metadata": {},
   "outputs": [],
   "source": [
    "data['fare-bin'] = pd.cut(data['fare_amount'], bins = list(range(0, 101, 5)))"
   ]
  },
  {
   "cell_type": "code",
   "execution_count": 100,
   "metadata": {},
   "outputs": [
    {
     "data": {
      "text/plain": [
       "(5, 10]      47039\n",
       "(10, 15]     19978\n",
       "(0, 5]       15515\n",
       "(15, 20]      7353\n",
       "(20, 25]      3224\n",
       "             ...  \n",
       "(75, 80]        29\n",
       "(80, 85]        22\n",
       "(85, 90]        18\n",
       "(95, 100]       10\n",
       "(90, 95]         9\n",
       "Name: fare-bin, Length: 20, dtype: int64"
      ]
     },
     "execution_count": 100,
     "metadata": {},
     "output_type": "execute_result"
    }
   ],
   "source": [
    "data['fare-bin'].value_counts() "
   ]
  },
  {
   "cell_type": "code",
   "execution_count": 101,
   "metadata": {},
   "outputs": [
    {
     "data": {
      "text/plain": [
       "Text(0.5, 1.0, 'Fare Binned')"
      ]
     },
     "execution_count": 101,
     "metadata": {},
     "output_type": "execute_result"
    },
    {
     "data": {
      "image/png": "[encoded data removed]",
      "text/plain": [
       "<Figure size 432x288 with 1 Axes>"
      ]
     },
     "metadata": {
      "needs_background": "light"
     },
     "output_type": "display_data"
    }
   ],
   "source": [
    "data['fare-bin'] = pd.cut(data['fare_amount'], bins = list(range(0, 100, 5)))\n",
    "data['fare-bin'].value_counts().plot.bar(color = 'b', edgecolor = 'r');\n",
    "plt.title('Fare Binned')"
   ]
  },
  {
   "cell_type": "markdown",
   "metadata": {},
   "source": [
    "### Variable : Passenger_count"
   ]
  },
  {
   "cell_type": "code",
   "execution_count": 102,
   "metadata": {},
   "outputs": [
    {
     "data": {
      "image/png": "[encoded data removed]",
      "text/plain": [
       "<Figure size 576x432 with 1 Axes>"
      ]
     },
     "metadata": {
      "needs_background": "light"
     },
     "output_type": "display_data"
    }
   ],
   "source": [
    "plt.figure(figsize=(8,6))\n",
    "data['passenger_count'].value_counts().plot.bar(color = 'b', edgecolor = 'k');\n",
    "plt.title('Passenger Counts'); \n",
    "plt.xlabel('Number of Passengers'); \n",
    "plt.ylabel('Count');"
   ]
  },
  {
   "cell_type": "code",
   "execution_count": 103,
   "metadata": {},
   "outputs": [
    {
     "data": {
      "text/plain": [
       "1    69503\n",
       "2    14762\n",
       "5     7082\n",
       "3     4384\n",
       "4     2053\n",
       "6     2009\n",
       "0      326\n",
       "Name: passenger_count, dtype: int64"
      ]
     },
     "execution_count": 103,
     "metadata": {},
     "output_type": "execute_result"
    }
   ],
   "source": [
    "data[\"passenger_count\"].value_counts()"
   ]
  },
  {
   "cell_type": "code",
   "execution_count": 104,
   "metadata": {},
   "outputs": [
    {
     "data": {
      "text/plain": [
       "<AxesSubplot:ylabel='passenger_count'>"
      ]
     },
     "execution_count": 104,
     "metadata": {},
     "output_type": "execute_result"
    },
    {
     "data": {
      "image/png": "[encoded data removed]",
      "text/plain": [
       "<Figure size 432x288 with 1 Axes>"
      ]
     },
     "metadata": {},
     "output_type": "display_data"
    }
   ],
   "source": [
    "data[\"passenger_count\"].value_counts().plot(kind=\"pie\", autopct=\"%.2f\")"
   ]
  },
  {
   "cell_type": "code",
   "execution_count": 105,
   "metadata": {},
   "outputs": [],
   "source": [
    "# print(f'Initial Observations: {data.shape[0]}')"
   ]
  },
  {
   "cell_type": "code",
   "execution_count": 106,
   "metadata": {},
   "outputs": [
    {
     "data": {
      "text/html": [
       "<div>\n",
       "<style scoped>\n",
       "    .dataframe tbody tr th:only-of-type {\n",
       "        vertical-align: middle;\n",
       "    }\n",
       "\n",
       "    .dataframe tbody tr th {\n",
       "        vertical-align: top;\n",
       "    }\n",
       "\n",
       "    .dataframe thead th {\n",
       "        text-align: right;\n",
       "    }\n",
       "</style>\n",
       "<table border=\"1\" class=\"dataframe\">\n",
       "  <thead>\n",
       "    <tr style=\"text-align: right;\">\n",
       "      <th></th>\n",
       "      <th>count</th>\n",
       "      <th>mean</th>\n",
       "      <th>std</th>\n",
       "      <th>min</th>\n",
       "      <th>1%</th>\n",
       "      <th>2%</th>\n",
       "      <th>2.5%</th>\n",
       "      <th>5%</th>\n",
       "      <th>10%</th>\n",
       "      <th>50%</th>\n",
       "      <th>95%</th>\n",
       "      <th>96%</th>\n",
       "      <th>97%</th>\n",
       "      <th>97.5%</th>\n",
       "      <th>98%</th>\n",
       "      <th>99%</th>\n",
       "      <th>max</th>\n",
       "    </tr>\n",
       "  </thead>\n",
       "  <tbody>\n",
       "    <tr>\n",
       "      <th>fare_amount</th>\n",
       "      <td>100119.00</td>\n",
       "      <td>11.27</td>\n",
       "      <td>9.34</td>\n",
       "      <td>2.50</td>\n",
       "      <td>3.30</td>\n",
       "      <td>3.50</td>\n",
       "      <td>3.70</td>\n",
       "      <td>4.10</td>\n",
       "      <td>4.50</td>\n",
       "      <td>8.50</td>\n",
       "      <td>30.00</td>\n",
       "      <td>33.07</td>\n",
       "      <td>37.80</td>\n",
       "      <td>42.00</td>\n",
       "      <td>45.22</td>\n",
       "      <td>52.00</td>\n",
       "      <td>100.00</td>\n",
       "    </tr>\n",
       "    <tr>\n",
       "      <th>pickup_longitude</th>\n",
       "      <td>100119.00</td>\n",
       "      <td>-72.52</td>\n",
       "      <td>10.66</td>\n",
       "      <td>-736.33</td>\n",
       "      <td>-74.01</td>\n",
       "      <td>-74.01</td>\n",
       "      <td>-74.01</td>\n",
       "      <td>-74.01</td>\n",
       "      <td>-74.00</td>\n",
       "      <td>-73.98</td>\n",
       "      <td>-73.87</td>\n",
       "      <td>-73.86</td>\n",
       "      <td>-73.79</td>\n",
       "      <td>-73.78</td>\n",
       "      <td>-73.68</td>\n",
       "      <td>0.00</td>\n",
       "      <td>351.05</td>\n",
       "    </tr>\n",
       "    <tr>\n",
       "      <th>pickup_latitude</th>\n",
       "      <td>100119.00</td>\n",
       "      <td>39.95</td>\n",
       "      <td>8.01</td>\n",
       "      <td>-74.02</td>\n",
       "      <td>0.00</td>\n",
       "      <td>40.61</td>\n",
       "      <td>40.64</td>\n",
       "      <td>40.70</td>\n",
       "      <td>40.72</td>\n",
       "      <td>40.75</td>\n",
       "      <td>40.79</td>\n",
       "      <td>40.79</td>\n",
       "      <td>40.79</td>\n",
       "      <td>40.80</td>\n",
       "      <td>40.80</td>\n",
       "      <td>40.81</td>\n",
       "      <td>1669.58</td>\n",
       "    </tr>\n",
       "    <tr>\n",
       "      <th>dropoff_longitude</th>\n",
       "      <td>100119.00</td>\n",
       "      <td>-72.51</td>\n",
       "      <td>11.78</td>\n",
       "      <td>-84.65</td>\n",
       "      <td>-74.02</td>\n",
       "      <td>-74.01</td>\n",
       "      <td>-74.01</td>\n",
       "      <td>-74.01</td>\n",
       "      <td>-74.00</td>\n",
       "      <td>-73.98</td>\n",
       "      <td>-73.88</td>\n",
       "      <td>-73.86</td>\n",
       "      <td>-73.81</td>\n",
       "      <td>-73.78</td>\n",
       "      <td>-73.71</td>\n",
       "      <td>0.00</td>\n",
       "      <td>1717.00</td>\n",
       "    </tr>\n",
       "    <tr>\n",
       "      <th>dropoff_latitude</th>\n",
       "      <td>100119.00</td>\n",
       "      <td>39.98</td>\n",
       "      <td>10.43</td>\n",
       "      <td>-74.01</td>\n",
       "      <td>0.00</td>\n",
       "      <td>40.59</td>\n",
       "      <td>40.64</td>\n",
       "      <td>40.69</td>\n",
       "      <td>40.71</td>\n",
       "      <td>40.75</td>\n",
       "      <td>40.79</td>\n",
       "      <td>40.80</td>\n",
       "      <td>40.80</td>\n",
       "      <td>40.81</td>\n",
       "      <td>40.81</td>\n",
       "      <td>40.83</td>\n",
       "      <td>1989.73</td>\n",
       "    </tr>\n",
       "    <tr>\n",
       "      <th>passenger_count</th>\n",
       "      <td>100119.00</td>\n",
       "      <td>1.68</td>\n",
       "      <td>1.30</td>\n",
       "      <td>0.00</td>\n",
       "      <td>1.00</td>\n",
       "      <td>1.00</td>\n",
       "      <td>1.00</td>\n",
       "      <td>1.00</td>\n",
       "      <td>1.00</td>\n",
       "      <td>1.00</td>\n",
       "      <td>5.00</td>\n",
       "      <td>5.00</td>\n",
       "      <td>5.00</td>\n",
       "      <td>5.00</td>\n",
       "      <td>6.00</td>\n",
       "      <td>6.00</td>\n",
       "      <td>6.00</td>\n",
       "    </tr>\n",
       "  </tbody>\n",
       "</table>\n",
       "</div>"
      ],
      "text/plain": [
       "                      count   mean   std     min     1%     2%   2.5%     5%  \\\n",
       "fare_amount       100119.00  11.27  9.34    2.50   3.30   3.50   3.70   4.10   \n",
       "pickup_longitude  100119.00 -72.52 10.66 -736.33 -74.01 -74.01 -74.01 -74.01   \n",
       "pickup_latitude   100119.00  39.95  8.01  -74.02   0.00  40.61  40.64  40.70   \n",
       "dropoff_longitude 100119.00 -72.51 11.78  -84.65 -74.02 -74.01 -74.01 -74.01   \n",
       "dropoff_latitude  100119.00  39.98 10.43  -74.01   0.00  40.59  40.64  40.69   \n",
       "passenger_count   100119.00   1.68  1.30    0.00   1.00   1.00   1.00   1.00   \n",
       "\n",
       "                     10%    50%    95%    96%    97%  97.5%    98%   99%  \\\n",
       "fare_amount         4.50   8.50  30.00  33.07  37.80  42.00  45.22 52.00   \n",
       "pickup_longitude  -74.00 -73.98 -73.87 -73.86 -73.79 -73.78 -73.68  0.00   \n",
       "pickup_latitude    40.72  40.75  40.79  40.79  40.79  40.80  40.80 40.81   \n",
       "dropoff_longitude -74.00 -73.98 -73.88 -73.86 -73.81 -73.78 -73.71  0.00   \n",
       "dropoff_latitude   40.71  40.75  40.79  40.80  40.80  40.81  40.81 40.83   \n",
       "passenger_count     1.00   1.00   5.00   5.00   5.00   5.00   6.00  6.00   \n",
       "\n",
       "                      max  \n",
       "fare_amount        100.00  \n",
       "pickup_longitude   351.05  \n",
       "pickup_latitude   1669.58  \n",
       "dropoff_longitude 1717.00  \n",
       "dropoff_latitude  1989.73  \n",
       "passenger_count      6.00  "
      ]
     },
     "execution_count": 106,
     "metadata": {},
     "output_type": "execute_result"
    }
   ],
   "source": [
    "data.describe(percentiles=[0.01, .02, .025, .05, 0.1, .95, .96,.97,.975, .98, .99]).T"
   ]
  },
  {
   "cell_type": "code",
   "execution_count": 107,
   "metadata": {},
   "outputs": [],
   "source": [
    "# Absolute difference in latitude and longitude\n",
    "\n",
    "data['abs_lat_diff'] = (data['dropoff_latitude'] - data['pickup_latitude']).abs()\n",
    "data['abs_lon_diff'] = (data['dropoff_longitude'] - data['pickup_longitude']).abs()"
   ]
  },
  {
   "cell_type": "markdown",
   "metadata": {},
   "source": [
    "It does seem that the rides with a larger absolute difference in both longitude and latitude tend to cost more. To capture both differences in a single variable, we can add up the two differences in latitude and longitude and also find the square root of the sum of differences squared. The former feature would be called the Manhattan distance - or l1 norm - and the latter is called the Euclidean distance - or l2 norm. Both of these distances are specific examples of the general Minkowski distance."
   ]
  },
  {
   "cell_type": "markdown",
   "metadata": {},
   "source": [
    "###### Manhattan and Euclidean Distance\n",
    "The Minkowski Distance between two points is expressed as:\n",
    "\n",
    "D(X,Y)=(∑i=1n|xi−yi|p)1/p\n",
    "\n",
    "if p = 1, then this is the Manhattan distance and if p = 2 this is the Euclidean distance. You may also see these referred to as the l1 or l2 norm where the number indicates p in the equation.\n",
    "\n",
    "I should point out that these equations are only valid for actual distances in a cartesian coordinate system and here we only use them to find relative distances. To find the actual distances in terms of kilometers, we have to work with the latitude and longitude geographical coordinate system. This will be done later using the Haversine formula."
   ]
  },
  {
   "cell_type": "code",
   "execution_count": 108,
   "metadata": {},
   "outputs": [],
   "source": [
    "def minkowski_distance(x1, x2, y1, y2, p):\n",
    "    return ((abs(x2 - x1) ** p) + (abs(y2 - y1)) ** p) ** (1 / p)"
   ]
  },
  {
   "cell_type": "code",
   "execution_count": 109,
   "metadata": {},
   "outputs": [
    {
     "data": {
      "text/plain": [
       "24.166091947189145"
      ]
     },
     "execution_count": 109,
     "metadata": {},
     "output_type": "execute_result"
    }
   ],
   "source": [
    "# (23,25); (45,35)\n",
    "minkowski_distance(23,45, 25, 35, 2)"
   ]
  },
  {
   "cell_type": "code",
   "execution_count": 110,
   "metadata": {},
   "outputs": [
    {
     "data": {
      "text/plain": [
       "5.0"
      ]
     },
     "execution_count": 110,
     "metadata": {},
     "output_type": "execute_result"
    }
   ],
   "source": [
    "minkowski_distance(0, 3, 0, 4, 2) # Euclidean Distance"
   ]
  },
  {
   "cell_type": "code",
   "execution_count": 111,
   "metadata": {},
   "outputs": [
    {
     "data": {
      "image/png": "[encoded data removed]",
      "text/plain": [
       "<Figure size 864x432 with 1 Axes>"
      ]
     },
     "metadata": {
      "needs_background": "light"
     },
     "output_type": "display_data"
    }
   ],
   "source": [
    "data['manhattan'] = minkowski_distance(data['pickup_longitude'], \n",
    "                                       data['dropoff_longitude'],\n",
    "                                       data['pickup_latitude'],\n",
    "                                       data['dropoff_latitude'], 1)\n",
    "\n",
    "\n",
    "\n",
    "\n",
    "# Calculate distribution by each fare bin\n",
    "plt.figure(figsize = (12, 6))\n",
    "for f, grouped in data.groupby('fare-bin'):\n",
    "    sns.kdeplot(grouped['manhattan'], label = f'{f}');\n",
    "\n",
    "plt.xlabel('degrees'); plt.ylabel('density')\n",
    "plt.title('Manhattan Distance by Fare Amount');"
   ]
  },
  {
   "cell_type": "code",
   "execution_count": 112,
   "metadata": {},
   "outputs": [
    {
     "data": {
      "text/plain": [
       "(163, 11)"
      ]
     },
     "execution_count": 112,
     "metadata": {},
     "output_type": "execute_result"
    }
   ],
   "source": [
    "data[data[\"manhattan\"]>100].shape"
   ]
  },
  {
   "cell_type": "code",
   "execution_count": 113,
   "metadata": {},
   "outputs": [
    {
     "data": {
      "image/png": "[encoded data removed]",
      "text/plain": [
       "<Figure size 864x432 with 1 Axes>"
      ]
     },
     "metadata": {
      "needs_background": "light"
     },
     "output_type": "display_data"
    }
   ],
   "source": [
    "data['euclidean'] = minkowski_distance(data['pickup_longitude'], data['dropoff_longitude'],\n",
    "                                       data['pickup_latitude'], \n",
    "                                       data['dropoff_latitude'], 2)\n",
    "\n",
    "# Calculate distribution by each fare bin\n",
    "plt.figure(figsize = (12, 6))\n",
    "for f, grouped in data.groupby('fare-bin'):\n",
    "    sns.kdeplot(grouped['euclidean'], label = f'{f}');\n",
    "\n",
    "plt.xlabel('degrees'); \n",
    "plt.ylabel('density')\n",
    "plt.title('Euclidean Distance by Fare Amount');"
   ]
  },
  {
   "cell_type": "code",
   "execution_count": 114,
   "metadata": {},
   "outputs": [
    {
     "data": {
      "text/html": [
       "<div>\n",
       "<style scoped>\n",
       "    .dataframe tbody tr th:only-of-type {\n",
       "        vertical-align: middle;\n",
       "    }\n",
       "\n",
       "    .dataframe tbody tr th {\n",
       "        vertical-align: top;\n",
       "    }\n",
       "\n",
       "    .dataframe thead th {\n",
       "        text-align: right;\n",
       "    }\n",
       "</style>\n",
       "<table border=\"1\" class=\"dataframe\">\n",
       "  <thead>\n",
       "    <tr style=\"text-align: right;\">\n",
       "      <th></th>\n",
       "      <th>mean</th>\n",
       "      <th>count</th>\n",
       "    </tr>\n",
       "    <tr>\n",
       "      <th>fare-bin</th>\n",
       "      <th></th>\n",
       "      <th></th>\n",
       "    </tr>\n",
       "  </thead>\n",
       "  <tbody>\n",
       "    <tr>\n",
       "      <th>(0, 5]</th>\n",
       "      <td>0.27</td>\n",
       "      <td>15515</td>\n",
       "    </tr>\n",
       "    <tr>\n",
       "      <th>(5, 10]</th>\n",
       "      <td>0.14</td>\n",
       "      <td>47039</td>\n",
       "    </tr>\n",
       "    <tr>\n",
       "      <th>(10, 15]</th>\n",
       "      <td>0.28</td>\n",
       "      <td>19978</td>\n",
       "    </tr>\n",
       "    <tr>\n",
       "      <th>(15, 20]</th>\n",
       "      <td>0.21</td>\n",
       "      <td>7353</td>\n",
       "    </tr>\n",
       "    <tr>\n",
       "      <th>(20, 25]</th>\n",
       "      <td>0.27</td>\n",
       "      <td>3224</td>\n",
       "    </tr>\n",
       "    <tr>\n",
       "      <th>...</th>\n",
       "      <td>...</td>\n",
       "      <td>...</td>\n",
       "    </tr>\n",
       "    <tr>\n",
       "      <th>(70, 75]</th>\n",
       "      <td>0.19</td>\n",
       "      <td>33</td>\n",
       "    </tr>\n",
       "    <tr>\n",
       "      <th>(75, 80]</th>\n",
       "      <td>0.18</td>\n",
       "      <td>29</td>\n",
       "    </tr>\n",
       "    <tr>\n",
       "      <th>(80, 85]</th>\n",
       "      <td>3.98</td>\n",
       "      <td>22</td>\n",
       "    </tr>\n",
       "    <tr>\n",
       "      <th>(85, 90]</th>\n",
       "      <td>0.22</td>\n",
       "      <td>18</td>\n",
       "    </tr>\n",
       "    <tr>\n",
       "      <th>(90, 95]</th>\n",
       "      <td>0.18</td>\n",
       "      <td>9</td>\n",
       "    </tr>\n",
       "  </tbody>\n",
       "</table>\n",
       "<p>19 rows × 2 columns</p>\n",
       "</div>"
      ],
      "text/plain": [
       "          mean  count\n",
       "fare-bin             \n",
       "(0, 5]    0.27  15515\n",
       "(5, 10]   0.14  47039\n",
       "(10, 15]  0.28  19978\n",
       "(15, 20]  0.21   7353\n",
       "(20, 25]  0.27   3224\n",
       "...        ...    ...\n",
       "(70, 75]  0.19     33\n",
       "(75, 80]  0.18     29\n",
       "(80, 85]  3.98     22\n",
       "(85, 90]  0.22     18\n",
       "(90, 95]  0.18      9\n",
       "\n",
       "[19 rows x 2 columns]"
      ]
     },
     "execution_count": 114,
     "metadata": {},
     "output_type": "execute_result"
    }
   ],
   "source": [
    "data.groupby('fare-bin')['euclidean'].agg(['mean', 'count'])"
   ]
  },
  {
   "cell_type": "code",
   "execution_count": 115,
   "metadata": {},
   "outputs": [
    {
     "data": {
      "image/png": "[encoded data removed]",
      "text/plain": [
       "<Figure size 432x288 with 1 Axes>"
      ]
     },
     "metadata": {
      "needs_background": "light"
     },
     "output_type": "display_data"
    }
   ],
   "source": [
    "data.groupby('fare-bin')['euclidean'].mean().plot.bar(color = 'b');\n",
    "plt.title('Average Euclidean Distance by Fare Bin');"
   ]
  },
  {
   "cell_type": "markdown",
   "metadata": {},
   "source": [
    "There is a very clearly relationship between the fare bin and the average distance of the trip! This should give us confidence that this feature will be useful to a model.\n",
    "\n",
    "Another plot we can make is the passenger count distribution colored by the fare bin."
   ]
  },
  {
   "cell_type": "code",
   "execution_count": 116,
   "metadata": {},
   "outputs": [
    {
     "data": {
      "image/png": "[encoded data removed]",
      "text/plain": [
       "<Figure size 720x432 with 1 Axes>"
      ]
     },
     "metadata": {
      "needs_background": "light"
     },
     "output_type": "display_data"
    }
   ],
   "source": [
    "plt.figure(figsize = (10, 6))\n",
    "\n",
    "for p, grouped in data.groupby('passenger_count'):\n",
    "    sns.kdeplot(grouped['fare_amount'], label = f'{p} passengers');\n",
    "    \n",
    "plt.xlabel('Fare Amount'); plt.ylabel('Density')\n",
    "plt.title('Distribution of Fare Amount by Number of Passengers');"
   ]
  },
  {
   "cell_type": "markdown",
   "metadata": {},
   "source": [
    "###### There does not appear to be much difference between the number of passengers. To get a more accurate picture, we can calculate the actual stats."
   ]
  },
  {
   "cell_type": "code",
   "execution_count": 117,
   "metadata": {},
   "outputs": [
    {
     "data": {
      "text/html": [
       "<div>\n",
       "<style scoped>\n",
       "    .dataframe tbody tr th:only-of-type {\n",
       "        vertical-align: middle;\n",
       "    }\n",
       "\n",
       "    .dataframe tbody tr th {\n",
       "        vertical-align: top;\n",
       "    }\n",
       "\n",
       "    .dataframe thead th {\n",
       "        text-align: right;\n",
       "    }\n",
       "</style>\n",
       "<table border=\"1\" class=\"dataframe\">\n",
       "  <thead>\n",
       "    <tr style=\"text-align: right;\">\n",
       "      <th></th>\n",
       "      <th>mean</th>\n",
       "      <th>count</th>\n",
       "    </tr>\n",
       "    <tr>\n",
       "      <th>passenger_count</th>\n",
       "      <th></th>\n",
       "      <th></th>\n",
       "    </tr>\n",
       "  </thead>\n",
       "  <tbody>\n",
       "    <tr>\n",
       "      <th>0</th>\n",
       "      <td>9.23</td>\n",
       "      <td>326</td>\n",
       "    </tr>\n",
       "    <tr>\n",
       "      <th>1</th>\n",
       "      <td>11.13</td>\n",
       "      <td>69503</td>\n",
       "    </tr>\n",
       "    <tr>\n",
       "      <th>2</th>\n",
       "      <td>11.82</td>\n",
       "      <td>14762</td>\n",
       "    </tr>\n",
       "    <tr>\n",
       "      <th>3</th>\n",
       "      <td>11.44</td>\n",
       "      <td>4384</td>\n",
       "    </tr>\n",
       "    <tr>\n",
       "      <th>4</th>\n",
       "      <td>11.51</td>\n",
       "      <td>2053</td>\n",
       "    </tr>\n",
       "    <tr>\n",
       "      <th>5</th>\n",
       "      <td>11.22</td>\n",
       "      <td>7082</td>\n",
       "    </tr>\n",
       "    <tr>\n",
       "      <th>6</th>\n",
       "      <td>12.21</td>\n",
       "      <td>2009</td>\n",
       "    </tr>\n",
       "  </tbody>\n",
       "</table>\n",
       "</div>"
      ],
      "text/plain": [
       "                 mean  count\n",
       "passenger_count             \n",
       "0                9.23    326\n",
       "1               11.13  69503\n",
       "2               11.82  14762\n",
       "3               11.44   4384\n",
       "4               11.51   2053\n",
       "5               11.22   7082\n",
       "6               12.21   2009"
      ]
     },
     "execution_count": 117,
     "metadata": {},
     "output_type": "execute_result"
    }
   ],
   "source": [
    "data.groupby('passenger_count')['fare_amount'].agg(['mean', 'count'])"
   ]
  },
  {
   "cell_type": "code",
   "execution_count": 118,
   "metadata": {},
   "outputs": [
    {
     "data": {
      "image/png": "[encoded data removed]",
      "text/plain": [
       "<Figure size 432x288 with 1 Axes>"
      ]
     },
     "metadata": {
      "needs_background": "light"
     },
     "output_type": "display_data"
    }
   ],
   "source": [
    "data.groupby('passenger_count')['fare_amount'].mean().plot.bar(color = 'b');\n",
    "plt.title('Average Fare by Passenger Count');"
   ]
  },
  {
   "cell_type": "markdown",
   "metadata": {},
   "source": [
    "There is a small but noticeable difference in the average fare by the number of passengers."
   ]
  },
  {
   "cell_type": "code",
   "execution_count": 119,
   "metadata": {},
   "outputs": [
    {
     "data": {
      "text/plain": [
       "Index(['fare_amount', 'pickup_datetime', 'pickup_longitude', 'pickup_latitude',\n",
       "       'dropoff_longitude', 'dropoff_latitude', 'passenger_count', 'fare-bin',\n",
       "       'abs_lat_diff', 'abs_lon_diff', 'manhattan', 'euclidean'],\n",
       "      dtype='object')"
      ]
     },
     "execution_count": 119,
     "metadata": {},
     "output_type": "execute_result"
    }
   ],
   "source": [
    "data.columns"
   ]
  },
  {
   "cell_type": "code",
   "execution_count": 120,
   "metadata": {},
   "outputs": [],
   "source": [
    "y=data[\"fare_amount\"]\n",
    "X=data[['abs_lat_diff', 'abs_lon_diff', 'manhattan', 'euclidean','passenger_count' ]]"
   ]
  },
  {
   "cell_type": "code",
   "execution_count": 121,
   "metadata": {},
   "outputs": [
    {
     "data": {
      "image/png": "[encoded data removed]",
      "text/plain": [
       "<Figure size 432x288 with 2 Axes>"
      ]
     },
     "metadata": {
      "needs_background": "light"
     },
     "output_type": "display_data"
    }
   ],
   "source": [
    "sns.heatmap(X.corr(), annot=True)\n",
    "plt.show()"
   ]
  },
  {
   "cell_type": "code",
   "execution_count": 122,
   "metadata": {},
   "outputs": [],
   "source": [
    "from sklearn.model_selection import train_test_split\n",
    "X_train, X_test, y_train, y_test = train_test_split(X, y, test_size=.3, random_state=99)"
   ]
  },
  {
   "cell_type": "code",
   "execution_count": 123,
   "metadata": {},
   "outputs": [],
   "source": [
    "from sklearn.ensemble import RandomForestRegressor"
   ]
  },
  {
   "cell_type": "code",
   "execution_count": null,
   "metadata": {},
   "outputs": [],
   "source": []
  },
  {
   "cell_type": "code",
   "execution_count": 124,
   "metadata": {},
   "outputs": [
    {
     "data": {
      "text/plain": [
       "RandomForestRegressor(max_depth=5, n_jobs=-1)"
      ]
     },
     "execution_count": 124,
     "metadata": {},
     "output_type": "execute_result"
    }
   ],
   "source": [
    "from sklearn.ensemble import RandomForestRegressor\n",
    "\n",
    "# Create the random forest\n",
    "random_forest = RandomForestRegressor(n_estimators = 100, max_depth = 5, \n",
    "                                      bootstrap = True,n_jobs = -1)\n",
    "\n",
    "# Train on data\n",
    "random_forest.fit(X_train, y_train)"
   ]
  },
  {
   "cell_type": "code",
   "execution_count": 125,
   "metadata": {},
   "outputs": [
    {
     "name": "stdout",
     "output_type": "stream",
     "text": [
      "R^2 is train:  0.7901806810837546\n",
      "R^2 is test:  0.7593149284469086\n"
     ]
    }
   ],
   "source": [
    "print(\"R^2 is train: \", random_forest.score(X_train, y_train))\n",
    "print(\"R^2 is test: \", random_forest.score(X_test, y_test))"
   ]
  },
  {
   "cell_type": "code",
   "execution_count": 126,
   "metadata": {},
   "outputs": [
    {
     "data": {
      "text/plain": [
       "array([ 5.55823229, 13.71793015, 14.25241713, ...,  5.55823229,\n",
       "       10.34365838,  5.55823229])"
      ]
     },
     "execution_count": 126,
     "metadata": {},
     "output_type": "execute_result"
    }
   ],
   "source": [
    "random_forest.predict(X_train)"
   ]
  },
  {
   "cell_type": "code",
   "execution_count": 127,
   "metadata": {},
   "outputs": [
    {
     "name": "stdout",
     "output_type": "stream",
     "text": [
      "RMSE of Train:  4.276037641105298\n",
      "RMSE of Test:  4.5943284222254395\n"
     ]
    }
   ],
   "source": [
    "print(\"RMSE of Train: \", np.sqrt(np.mean((y_train-random_forest.predict(X_train))**2) ))\n",
    "print(\"RMSE of Test: \", np.sqrt(np.mean((y_test-random_forest.predict(X_test))**2) ))"
   ]
  },
  {
   "cell_type": "code",
   "execution_count": 128,
   "metadata": {},
   "outputs": [
    {
     "name": "stdout",
     "output_type": "stream",
     "text": [
      "MAE of Train:  2.3308811034362464\n",
      "MAE of Test:  2.384039850094292\n"
     ]
    }
   ],
   "source": [
    "print(\"MAE of Train: \", np.mean(np.abs((y_train-random_forest.predict(X_train))) ))\n",
    "print(\"MAE of Test: \", np.mean(np.abs((y_test-random_forest.predict(X_test))) ))"
   ]
  },
  {
   "cell_type": "code",
   "execution_count": 129,
   "metadata": {},
   "outputs": [
    {
     "data": {
      "text/plain": [
       "array([5.26718910e-03, 5.20822100e-02, 2.00287884e-02, 9.22498895e-01,\n",
       "       1.22917298e-04])"
      ]
     },
     "execution_count": 129,
     "metadata": {},
     "output_type": "execute_result"
    }
   ],
   "source": [
    "random_forest.feature_importances_"
   ]
  },
  {
   "cell_type": "code",
   "execution_count": 130,
   "metadata": {},
   "outputs": [
    {
     "data": {
      "text/plain": [
       "Index(['abs_lat_diff', 'abs_lon_diff', 'manhattan', 'euclidean',\n",
       "       'passenger_count'],\n",
       "      dtype='object')"
      ]
     },
     "execution_count": 130,
     "metadata": {},
     "output_type": "execute_result"
    }
   ],
   "source": [
    "X_train.columns"
   ]
  },
  {
   "cell_type": "code",
   "execution_count": 131,
   "metadata": {},
   "outputs": [
    {
     "data": {
      "text/html": [
       "<div>\n",
       "<style scoped>\n",
       "    .dataframe tbody tr th:only-of-type {\n",
       "        vertical-align: middle;\n",
       "    }\n",
       "\n",
       "    .dataframe tbody tr th {\n",
       "        vertical-align: top;\n",
       "    }\n",
       "\n",
       "    .dataframe thead th {\n",
       "        text-align: right;\n",
       "    }\n",
       "</style>\n",
       "<table border=\"1\" class=\"dataframe\">\n",
       "  <thead>\n",
       "    <tr style=\"text-align: right;\">\n",
       "      <th></th>\n",
       "      <th>Var</th>\n",
       "      <th>Imp</th>\n",
       "    </tr>\n",
       "  </thead>\n",
       "  <tbody>\n",
       "    <tr>\n",
       "      <th>0</th>\n",
       "      <td>abs_lat_diff</td>\n",
       "      <td>0.01</td>\n",
       "    </tr>\n",
       "    <tr>\n",
       "      <th>1</th>\n",
       "      <td>abs_lon_diff</td>\n",
       "      <td>0.05</td>\n",
       "    </tr>\n",
       "    <tr>\n",
       "      <th>2</th>\n",
       "      <td>manhattan</td>\n",
       "      <td>0.02</td>\n",
       "    </tr>\n",
       "    <tr>\n",
       "      <th>3</th>\n",
       "      <td>euclidean</td>\n",
       "      <td>0.92</td>\n",
       "    </tr>\n",
       "    <tr>\n",
       "      <th>4</th>\n",
       "      <td>passenger_count</td>\n",
       "      <td>0.00</td>\n",
       "    </tr>\n",
       "  </tbody>\n",
       "</table>\n",
       "</div>"
      ],
      "text/plain": [
       "               Var  Imp\n",
       "0     abs_lat_diff 0.01\n",
       "1     abs_lon_diff 0.05\n",
       "2        manhattan 0.02\n",
       "3        euclidean 0.92\n",
       "4  passenger_count 0.00"
      ]
     },
     "execution_count": 131,
     "metadata": {},
     "output_type": "execute_result"
    }
   ],
   "source": [
    "pd.DataFrame({\"Var\": X_train.columns, \"Imp\": random_forest.feature_importances_})"
   ]
  },
  {
   "cell_type": "code",
   "execution_count": 132,
   "metadata": {},
   "outputs": [
    {
     "name": "stdout",
     "output_type": "stream",
     "text": [
      "R^2 is train:  0.7901806810837546\n",
      "R^2 is test:  0.7593149284469086\n",
      "MAE of Train:  2.3308811034362464\n",
      "MAE of Test:  2.384039850094292\n",
      "RMSE of Train:  4.276037641105298\n",
      "RMSE of Test:  4.5943284222254395\n"
     ]
    }
   ],
   "source": [
    "print(\"R^2 is train: \", random_forest.score(X_train, y_train))\n",
    "print(\"R^2 is test: \", random_forest.score(X_test, y_test))\n",
    "print(\"MAE of Train: \", np.mean(np.abs((y_train-random_forest.predict(X_train))) ))\n",
    "print(\"MAE of Test: \", np.mean(np.abs((y_test-random_forest.predict(X_test))) ))\n",
    "print(\"RMSE of Train: \", np.sqrt(np.mean((y_train-random_forest.predict(X_train))**2) ))\n",
    "print(\"RMSE of Test: \", np.sqrt(np.mean((y_test-random_forest.predict(X_test))**2) ))\n"
   ]
  },
  {
   "cell_type": "code",
   "execution_count": 133,
   "metadata": {},
   "outputs": [],
   "source": [
    "from sklearn.tree import DecisionTreeRegressor"
   ]
  },
  {
   "cell_type": "code",
   "execution_count": 134,
   "metadata": {},
   "outputs": [
    {
     "data": {
      "text/plain": [
       "DecisionTreeRegressor(max_depth=5)"
      ]
     },
     "execution_count": 134,
     "metadata": {},
     "output_type": "execute_result"
    }
   ],
   "source": [
    "m1=DecisionTreeRegressor(max_depth=5)\n",
    "m1.fit(X_train, y_train)"
   ]
  },
  {
   "cell_type": "code",
   "execution_count": 135,
   "metadata": {},
   "outputs": [
    {
     "name": "stdout",
     "output_type": "stream",
     "text": [
      "R^2 is train:  0.7861162864082163\n",
      "R^2 is test:  0.7509941618957612\n",
      "MAE of Train:  2.3565434630640554\n",
      "MAE of Test:  2.417408936063363\n",
      "RMSE of Train:  4.317254402900521\n",
      "RMSE of Test:  4.67306933672741\n"
     ]
    }
   ],
   "source": [
    "print(\"R^2 is train: \", m1.score(X_train, y_train))\n",
    "print(\"R^2 is test: \", m1.score(X_test, y_test))\n",
    "print(\"MAE of Train: \", np.mean(np.abs((y_train-m1.predict(X_train))) ))\n",
    "print(\"MAE of Test: \", np.mean(np.abs((y_test-m1.predict(X_test))) ))\n",
    "print(\"RMSE of Train: \", np.sqrt(np.mean((y_train-m1.predict(X_train))**2) ))\n",
    "print(\"RMSE of Test: \", np.sqrt(np.mean((y_test-m1.predict(X_test))**2) ))"
   ]
  },
  {
   "cell_type": "code",
   "execution_count": 136,
   "metadata": {},
   "outputs": [
    {
     "data": {
      "text/plain": [
       "Index(['fare_amount', 'pickup_datetime', 'pickup_longitude', 'pickup_latitude',\n",
       "       'dropoff_longitude', 'dropoff_latitude', 'passenger_count', 'fare-bin',\n",
       "       'abs_lat_diff', 'abs_lon_diff', 'manhattan', 'euclidean'],\n",
       "      dtype='object')"
      ]
     },
     "execution_count": 136,
     "metadata": {},
     "output_type": "execute_result"
    }
   ],
   "source": [
    "data.columns"
   ]
  },
  {
   "cell_type": "code",
   "execution_count": 137,
   "metadata": {},
   "outputs": [],
   "source": [
    "data1=data.copy()"
   ]
  },
  {
   "cell_type": "code",
   "execution_count": null,
   "metadata": {},
   "outputs": [],
   "source": []
  },
  {
   "cell_type": "code",
   "execution_count": null,
   "metadata": {},
   "outputs": [],
   "source": []
  },
  {
   "cell_type": "code",
   "execution_count": null,
   "metadata": {},
   "outputs": [],
   "source": []
  },
  {
   "cell_type": "code",
   "execution_count": 138,
   "metadata": {},
   "outputs": [
    {
     "data": {
      "text/html": [
       "<div>\n",
       "<style scoped>\n",
       "    .dataframe tbody tr th:only-of-type {\n",
       "        vertical-align: middle;\n",
       "    }\n",
       "\n",
       "    .dataframe tbody tr th {\n",
       "        vertical-align: top;\n",
       "    }\n",
       "\n",
       "    .dataframe thead th {\n",
       "        text-align: right;\n",
       "    }\n",
       "</style>\n",
       "<table border=\"1\" class=\"dataframe\">\n",
       "  <thead>\n",
       "    <tr style=\"text-align: right;\">\n",
       "      <th></th>\n",
       "      <th>fare_amount</th>\n",
       "      <th>pickup_datetime</th>\n",
       "      <th>pickup_longitude</th>\n",
       "      <th>pickup_latitude</th>\n",
       "      <th>dropoff_longitude</th>\n",
       "      <th>dropoff_latitude</th>\n",
       "      <th>passenger_count</th>\n",
       "      <th>fare-bin</th>\n",
       "      <th>abs_lat_diff</th>\n",
       "      <th>abs_lon_diff</th>\n",
       "      <th>manhattan</th>\n",
       "      <th>euclidean</th>\n",
       "      <th>day</th>\n",
       "      <th>weekday</th>\n",
       "      <th>month</th>\n",
       "      <th>hour</th>\n",
       "      <th>minute</th>\n",
       "    </tr>\n",
       "  </thead>\n",
       "  <tbody>\n",
       "    <tr>\n",
       "      <th>0</th>\n",
       "      <td>4.50</td>\n",
       "      <td>2009-06-15 17:26:21+00:00</td>\n",
       "      <td>-73.84</td>\n",
       "      <td>40.72</td>\n",
       "      <td>-73.84</td>\n",
       "      <td>40.71</td>\n",
       "      <td>1</td>\n",
       "      <td>(0, 5]</td>\n",
       "      <td>0.01</td>\n",
       "      <td>0.00</td>\n",
       "      <td>0.01</td>\n",
       "      <td>0.01</td>\n",
       "      <td>15</td>\n",
       "      <td>0</td>\n",
       "      <td>6</td>\n",
       "      <td>17</td>\n",
       "      <td>26</td>\n",
       "    </tr>\n",
       "    <tr>\n",
       "      <th>1</th>\n",
       "      <td>16.90</td>\n",
       "      <td>2010-01-05 16:52:16+00:00</td>\n",
       "      <td>-74.02</td>\n",
       "      <td>40.71</td>\n",
       "      <td>-73.98</td>\n",
       "      <td>40.78</td>\n",
       "      <td>1</td>\n",
       "      <td>(15, 20]</td>\n",
       "      <td>0.07</td>\n",
       "      <td>0.04</td>\n",
       "      <td>0.11</td>\n",
       "      <td>0.08</td>\n",
       "      <td>5</td>\n",
       "      <td>1</td>\n",
       "      <td>1</td>\n",
       "      <td>16</td>\n",
       "      <td>52</td>\n",
       "    </tr>\n",
       "    <tr>\n",
       "      <th>2</th>\n",
       "      <td>5.70</td>\n",
       "      <td>2011-08-18 00:35:00+00:00</td>\n",
       "      <td>-73.98</td>\n",
       "      <td>40.76</td>\n",
       "      <td>-73.99</td>\n",
       "      <td>40.75</td>\n",
       "      <td>2</td>\n",
       "      <td>(5, 10]</td>\n",
       "      <td>0.01</td>\n",
       "      <td>0.01</td>\n",
       "      <td>0.02</td>\n",
       "      <td>0.01</td>\n",
       "      <td>18</td>\n",
       "      <td>3</td>\n",
       "      <td>8</td>\n",
       "      <td>0</td>\n",
       "      <td>35</td>\n",
       "    </tr>\n",
       "    <tr>\n",
       "      <th>3</th>\n",
       "      <td>7.70</td>\n",
       "      <td>2012-04-21 04:30:42+00:00</td>\n",
       "      <td>-73.99</td>\n",
       "      <td>40.73</td>\n",
       "      <td>-73.99</td>\n",
       "      <td>40.76</td>\n",
       "      <td>1</td>\n",
       "      <td>(5, 10]</td>\n",
       "      <td>0.02</td>\n",
       "      <td>0.00</td>\n",
       "      <td>0.03</td>\n",
       "      <td>0.03</td>\n",
       "      <td>21</td>\n",
       "      <td>5</td>\n",
       "      <td>4</td>\n",
       "      <td>4</td>\n",
       "      <td>30</td>\n",
       "    </tr>\n",
       "    <tr>\n",
       "      <th>4</th>\n",
       "      <td>5.30</td>\n",
       "      <td>2010-03-09 07:51:00+00:00</td>\n",
       "      <td>-73.97</td>\n",
       "      <td>40.77</td>\n",
       "      <td>-73.96</td>\n",
       "      <td>40.78</td>\n",
       "      <td>1</td>\n",
       "      <td>(5, 10]</td>\n",
       "      <td>0.02</td>\n",
       "      <td>0.01</td>\n",
       "      <td>0.03</td>\n",
       "      <td>0.02</td>\n",
       "      <td>9</td>\n",
       "      <td>1</td>\n",
       "      <td>3</td>\n",
       "      <td>7</td>\n",
       "      <td>51</td>\n",
       "    </tr>\n",
       "    <tr>\n",
       "      <th>...</th>\n",
       "      <td>...</td>\n",
       "      <td>...</td>\n",
       "      <td>...</td>\n",
       "      <td>...</td>\n",
       "      <td>...</td>\n",
       "      <td>...</td>\n",
       "      <td>...</td>\n",
       "      <td>...</td>\n",
       "      <td>...</td>\n",
       "      <td>...</td>\n",
       "      <td>...</td>\n",
       "      <td>...</td>\n",
       "      <td>...</td>\n",
       "      <td>...</td>\n",
       "      <td>...</td>\n",
       "      <td>...</td>\n",
       "      <td>...</td>\n",
       "    </tr>\n",
       "    <tr>\n",
       "      <th>100166</th>\n",
       "      <td>7.00</td>\n",
       "      <td>2014-09-13 17:05:00+00:00</td>\n",
       "      <td>-73.96</td>\n",
       "      <td>40.78</td>\n",
       "      <td>-73.97</td>\n",
       "      <td>40.76</td>\n",
       "      <td>4</td>\n",
       "      <td>(5, 10]</td>\n",
       "      <td>0.01</td>\n",
       "      <td>0.01</td>\n",
       "      <td>0.03</td>\n",
       "      <td>0.02</td>\n",
       "      <td>13</td>\n",
       "      <td>5</td>\n",
       "      <td>9</td>\n",
       "      <td>17</td>\n",
       "      <td>5</td>\n",
       "    </tr>\n",
       "    <tr>\n",
       "      <th>100167</th>\n",
       "      <td>8.90</td>\n",
       "      <td>2012-02-04 18:48:25+00:00</td>\n",
       "      <td>-73.99</td>\n",
       "      <td>40.74</td>\n",
       "      <td>-74.00</td>\n",
       "      <td>40.76</td>\n",
       "      <td>4</td>\n",
       "      <td>(5, 10]</td>\n",
       "      <td>0.02</td>\n",
       "      <td>0.01</td>\n",
       "      <td>0.02</td>\n",
       "      <td>0.02</td>\n",
       "      <td>4</td>\n",
       "      <td>5</td>\n",
       "      <td>2</td>\n",
       "      <td>18</td>\n",
       "      <td>48</td>\n",
       "    </tr>\n",
       "    <tr>\n",
       "      <th>100168</th>\n",
       "      <td>6.90</td>\n",
       "      <td>2012-06-22 19:16:00+00:00</td>\n",
       "      <td>-73.96</td>\n",
       "      <td>40.77</td>\n",
       "      <td>-73.97</td>\n",
       "      <td>40.75</td>\n",
       "      <td>1</td>\n",
       "      <td>(5, 10]</td>\n",
       "      <td>0.02</td>\n",
       "      <td>0.01</td>\n",
       "      <td>0.03</td>\n",
       "      <td>0.02</td>\n",
       "      <td>22</td>\n",
       "      <td>4</td>\n",
       "      <td>6</td>\n",
       "      <td>19</td>\n",
       "      <td>16</td>\n",
       "    </tr>\n",
       "    <tr>\n",
       "      <th>100169</th>\n",
       "      <td>12.00</td>\n",
       "      <td>2014-01-10 19:12:00+00:00</td>\n",
       "      <td>-73.97</td>\n",
       "      <td>40.75</td>\n",
       "      <td>-73.99</td>\n",
       "      <td>40.74</td>\n",
       "      <td>1</td>\n",
       "      <td>(10, 15]</td>\n",
       "      <td>0.01</td>\n",
       "      <td>0.02</td>\n",
       "      <td>0.02</td>\n",
       "      <td>0.02</td>\n",
       "      <td>10</td>\n",
       "      <td>4</td>\n",
       "      <td>1</td>\n",
       "      <td>19</td>\n",
       "      <td>12</td>\n",
       "    </tr>\n",
       "    <tr>\n",
       "      <th>100170</th>\n",
       "      <td>13.00</td>\n",
       "      <td>2015-03-31 13:15:39+00:00</td>\n",
       "      <td>-73.98</td>\n",
       "      <td>40.78</td>\n",
       "      <td>-73.99</td>\n",
       "      <td>40.75</td>\n",
       "      <td>1</td>\n",
       "      <td>(10, 15]</td>\n",
       "      <td>0.03</td>\n",
       "      <td>0.01</td>\n",
       "      <td>0.03</td>\n",
       "      <td>0.03</td>\n",
       "      <td>31</td>\n",
       "      <td>1</td>\n",
       "      <td>3</td>\n",
       "      <td>13</td>\n",
       "      <td>15</td>\n",
       "    </tr>\n",
       "  </tbody>\n",
       "</table>\n",
       "<p>100119 rows × 17 columns</p>\n",
       "</div>"
      ],
      "text/plain": [
       "        fare_amount           pickup_datetime  pickup_longitude  \\\n",
       "0              4.50 2009-06-15 17:26:21+00:00            -73.84   \n",
       "1             16.90 2010-01-05 16:52:16+00:00            -74.02   \n",
       "2              5.70 2011-08-18 00:35:00+00:00            -73.98   \n",
       "3              7.70 2012-04-21 04:30:42+00:00            -73.99   \n",
       "4              5.30 2010-03-09 07:51:00+00:00            -73.97   \n",
       "...             ...                       ...               ...   \n",
       "100166         7.00 2014-09-13 17:05:00+00:00            -73.96   \n",
       "100167         8.90 2012-02-04 18:48:25+00:00            -73.99   \n",
       "100168         6.90 2012-06-22 19:16:00+00:00            -73.96   \n",
       "100169        12.00 2014-01-10 19:12:00+00:00            -73.97   \n",
       "100170        13.00 2015-03-31 13:15:39+00:00            -73.98   \n",
       "\n",
       "        pickup_latitude  dropoff_longitude  dropoff_latitude  passenger_count  \\\n",
       "0                 40.72             -73.84             40.71                1   \n",
       "1                 40.71             -73.98             40.78                1   \n",
       "2                 40.76             -73.99             40.75                2   \n",
       "3                 40.73             -73.99             40.76                1   \n",
       "4                 40.77             -73.96             40.78                1   \n",
       "...                 ...                ...               ...              ...   \n",
       "100166            40.78             -73.97             40.76                4   \n",
       "100167            40.74             -74.00             40.76                4   \n",
       "100168            40.77             -73.97             40.75                1   \n",
       "100169            40.75             -73.99             40.74                1   \n",
       "100170            40.78             -73.99             40.75                1   \n",
       "\n",
       "        fare-bin  abs_lat_diff  abs_lon_diff  manhattan  euclidean  day  \\\n",
       "0         (0, 5]          0.01          0.00       0.01       0.01   15   \n",
       "1       (15, 20]          0.07          0.04       0.11       0.08    5   \n",
       "2        (5, 10]          0.01          0.01       0.02       0.01   18   \n",
       "3        (5, 10]          0.02          0.00       0.03       0.03   21   \n",
       "4        (5, 10]          0.02          0.01       0.03       0.02    9   \n",
       "...          ...           ...           ...        ...        ...  ...   \n",
       "100166   (5, 10]          0.01          0.01       0.03       0.02   13   \n",
       "100167   (5, 10]          0.02          0.01       0.02       0.02    4   \n",
       "100168   (5, 10]          0.02          0.01       0.03       0.02   22   \n",
       "100169  (10, 15]          0.01          0.02       0.02       0.02   10   \n",
       "100170  (10, 15]          0.03          0.01       0.03       0.03   31   \n",
       "\n",
       "        weekday  month  hour  minute  \n",
       "0             0      6    17      26  \n",
       "1             1      1    16      52  \n",
       "2             3      8     0      35  \n",
       "3             5      4     4      30  \n",
       "4             1      3     7      51  \n",
       "...         ...    ...   ...     ...  \n",
       "100166        5      9    17       5  \n",
       "100167        5      2    18      48  \n",
       "100168        4      6    19      16  \n",
       "100169        4      1    19      12  \n",
       "100170        1      3    13      15  \n",
       "\n",
       "[100119 rows x 17 columns]"
      ]
     },
     "execution_count": 138,
     "metadata": {},
     "output_type": "execute_result"
    }
   ],
   "source": [
    "data1[\"day\"]=data1[\"pickup_datetime\"].dt.day  # day of month\n",
    "data1[\"weekday\"]=data1[\"pickup_datetime\"].dt.weekday\n",
    "data1[\"month\"]=data1[\"pickup_datetime\"].dt.month\n",
    "data1[\"hour\"]=data1[\"pickup_datetime\"].dt.hour\n",
    "data1[\"minute\"]=data1[\"pickup_datetime\"].dt.minute\n",
    "data1 "
   ]
  },
  {
   "cell_type": "code",
   "execution_count": 139,
   "metadata": {},
   "outputs": [],
   "source": [
    "data1[\"IsMonthStart\"]=np.where(data1[\"day\"]<=10, 1,0)\n",
    "data1[\"IsMonthEnd\"]=np.where(data1[\"day\"]>=20, 1,0)\n",
    "data1[\"IsMonthMid\"]=np.where((data1[\"day\"]>10) & (data1[\"day\"]<20) , 1,0)"
   ]
  },
  {
   "cell_type": "code",
   "execution_count": 140,
   "metadata": {},
   "outputs": [
    {
     "data": {
      "text/plain": [
       "0    1\n",
       "Name: d, dtype: int64"
      ]
     },
     "execution_count": 140,
     "metadata": {},
     "output_type": "execute_result"
    }
   ],
   "source": [
    "# {0: Mon, 1:Tues, 2:wed, 3:thur, 4: frid, 5:sat, 6 : sun}\n",
    "fg=pd.DataFrame({\"d\":[\"2022-03-08\"]})\n",
    "fg[\"d\"]=pd.to_datetime(fg[\"d\"])\n",
    "fg[\"d\"].dt.weekday"
   ]
  },
  {
   "cell_type": "code",
   "execution_count": 141,
   "metadata": {},
   "outputs": [],
   "source": [
    "data1[\"isWeekend\"]=np.where(data1[\"weekday\"]>4,1,0)  # 1 : weekend , 0: weekdays"
   ]
  },
  {
   "cell_type": "code",
   "execution_count": 142,
   "metadata": {},
   "outputs": [],
   "source": [
    "data1[\"q1\"]= np.where(data1[\"month\"]<4,1,0)\n",
    "data1[\"q2\"]= np.where((data1[\"month\"]>=4) &(data1[\"month\"]<7) ,1,0)\n",
    "data1[\"q3\"]= np.where((data1[\"month\"]>=7) &(data1[\"month\"]<10) ,1,0)\n",
    "data1[\"q4\"]= np.where(data1[\"month\"]>=10 ,1,0)"
   ]
  },
  {
   "cell_type": "code",
   "execution_count": 143,
   "metadata": {},
   "outputs": [],
   "source": [
    "data1[\"EarlyMorning\"]=np.where((data1[\"hour\"]>4) & (data1[\"hour\"]<8) , 1,0)\n",
    "data1[\"Morning\"]=np.where((data1[\"hour\"]>=8) & (data1[\"hour\"]<12) , 1,0)\n",
    "data1[\"AftrNoom\"]=np.where((data1[\"hour\"]>=12) & (data1[\"hour\"]<16) , 1,0)\n",
    "data1[\"Evening\"]=np.where((data1[\"hour\"]>=16) & (data1[\"hour\"]<20) , 1,0)\n",
    "data1[\"Night\"]=np.where((data1[\"hour\"]>=20) & (data1[\"hour\"]<=24) , 1,0)\n",
    "data1[\"LateNight\"]=np.where((data1[\"hour\"]>=0) & (data1[\"hour\"]<4) , 1,0)"
   ]
  },
  {
   "cell_type": "code",
   "execution_count": 144,
   "metadata": {},
   "outputs": [
    {
     "data": {
      "text/plain": [
       "(100119, 31)"
      ]
     },
     "execution_count": 144,
     "metadata": {},
     "output_type": "execute_result"
    }
   ],
   "source": [
    "data1.shape"
   ]
  },
  {
   "cell_type": "code",
   "execution_count": 145,
   "metadata": {},
   "outputs": [
    {
     "data": {
      "text/html": [
       "<div>\n",
       "<style scoped>\n",
       "    .dataframe tbody tr th:only-of-type {\n",
       "        vertical-align: middle;\n",
       "    }\n",
       "\n",
       "    .dataframe tbody tr th {\n",
       "        vertical-align: top;\n",
       "    }\n",
       "\n",
       "    .dataframe thead th {\n",
       "        text-align: right;\n",
       "    }\n",
       "</style>\n",
       "<table border=\"1\" class=\"dataframe\">\n",
       "  <thead>\n",
       "    <tr style=\"text-align: right;\">\n",
       "      <th></th>\n",
       "      <th>count</th>\n",
       "      <th>mean</th>\n",
       "      <th>std</th>\n",
       "      <th>min</th>\n",
       "      <th>1%</th>\n",
       "      <th>3%</th>\n",
       "      <th>5%</th>\n",
       "      <th>10%</th>\n",
       "      <th>20%</th>\n",
       "      <th>30%</th>\n",
       "      <th>40%</th>\n",
       "      <th>50%</th>\n",
       "      <th>60%</th>\n",
       "      <th>70%</th>\n",
       "      <th>80%</th>\n",
       "      <th>90%</th>\n",
       "      <th>99%</th>\n",
       "      <th>max</th>\n",
       "    </tr>\n",
       "  </thead>\n",
       "  <tbody>\n",
       "    <tr>\n",
       "      <th>hour</th>\n",
       "      <td>100119.00</td>\n",
       "      <td>13.49</td>\n",
       "      <td>6.51</td>\n",
       "      <td>0.00</td>\n",
       "      <td>0.00</td>\n",
       "      <td>0.00</td>\n",
       "      <td>1.00</td>\n",
       "      <td>3.00</td>\n",
       "      <td>8.00</td>\n",
       "      <td>10.00</td>\n",
       "      <td>12.00</td>\n",
       "      <td>14.00</td>\n",
       "      <td>16.00</td>\n",
       "      <td>18.00</td>\n",
       "      <td>20.00</td>\n",
       "      <td>22.00</td>\n",
       "      <td>23.00</td>\n",
       "      <td>23.00</td>\n",
       "    </tr>\n",
       "    <tr>\n",
       "      <th>month</th>\n",
       "      <td>100119.00</td>\n",
       "      <td>6.27</td>\n",
       "      <td>3.45</td>\n",
       "      <td>1.00</td>\n",
       "      <td>1.00</td>\n",
       "      <td>1.00</td>\n",
       "      <td>1.00</td>\n",
       "      <td>2.00</td>\n",
       "      <td>3.00</td>\n",
       "      <td>4.00</td>\n",
       "      <td>5.00</td>\n",
       "      <td>6.00</td>\n",
       "      <td>7.00</td>\n",
       "      <td>9.00</td>\n",
       "      <td>10.00</td>\n",
       "      <td>11.00</td>\n",
       "      <td>12.00</td>\n",
       "      <td>12.00</td>\n",
       "    </tr>\n",
       "  </tbody>\n",
       "</table>\n",
       "</div>"
      ],
      "text/plain": [
       "          count  mean  std  min   1%   3%   5%  10%  20%   30%   40%   50%  \\\n",
       "hour  100119.00 13.49 6.51 0.00 0.00 0.00 1.00 3.00 8.00 10.00 12.00 14.00   \n",
       "month 100119.00  6.27 3.45 1.00 1.00 1.00 1.00 2.00 3.00  4.00  5.00  6.00   \n",
       "\n",
       "        60%   70%   80%   90%   99%   max  \n",
       "hour  16.00 18.00 20.00 22.00 23.00 23.00  \n",
       "month  7.00  9.00 10.00 11.00 12.00 12.00  "
      ]
     },
     "execution_count": 145,
     "metadata": {},
     "output_type": "execute_result"
    }
   ],
   "source": [
    "data1[[\"hour\" ,\"month\"]].describe(percentiles=[0.01, 0.03, 0.05, .1, .2,.3,.4,.5,.6,.7,.8,.9, .99]).T"
   ]
  },
  {
   "cell_type": "code",
   "execution_count": 146,
   "metadata": {},
   "outputs": [
    {
     "data": {
      "text/plain": [
       "Index(['fare_amount', 'pickup_datetime', 'pickup_longitude', 'pickup_latitude',\n",
       "       'dropoff_longitude', 'dropoff_latitude', 'passenger_count', 'fare-bin',\n",
       "       'abs_lat_diff', 'abs_lon_diff', 'manhattan', 'euclidean', 'day',\n",
       "       'weekday', 'month', 'hour', 'minute', 'IsMonthStart', 'IsMonthEnd',\n",
       "       'IsMonthMid', 'isWeekend', 'q1', 'q2', 'q3', 'q4', 'EarlyMorning',\n",
       "       'Morning', 'AftrNoom', 'Evening', 'Night', 'LateNight'],\n",
       "      dtype='object')"
      ]
     },
     "execution_count": 146,
     "metadata": {},
     "output_type": "execute_result"
    }
   ],
   "source": [
    "data1.columns "
   ]
  },
  {
   "cell_type": "code",
   "execution_count": 148,
   "metadata": {},
   "outputs": [],
   "source": [
    "x=data1[['abs_lat_diff', 'abs_lon_diff',  'euclidean', 'day',\n",
    "       'weekday', 'month', 'hour', 'minute', 'IsMonthStart', 'IsMonthEnd',\n",
    "       'IsMonthMid', 'isWeekend', 'q1', 'q2', 'q3', 'q4', 'EarlyMorning',\n",
    "       'Morning', 'AftrNoom', 'Evening', 'Night', 'LateNight']]\n",
    "y=data1['fare_amount']"
   ]
  },
  {
   "cell_type": "code",
   "execution_count": 149,
   "metadata": {},
   "outputs": [],
   "source": [
    "x_train, x_test, y_train, y_test=train_test_split(x, y, test_size=0.2,random_state=88)"
   ]
  },
  {
   "cell_type": "code",
   "execution_count": 150,
   "metadata": {},
   "outputs": [],
   "source": [
    "rfl=RandomForestRegressor(random_state=88, min_samples_split=200)"
   ]
  },
  {
   "cell_type": "code",
   "execution_count": 151,
   "metadata": {},
   "outputs": [
    {
     "data": {
      "text/plain": [
       "RandomForestRegressor(random_state=88)"
      ]
     },
     "execution_count": 151,
     "metadata": {},
     "output_type": "execute_result"
    }
   ],
   "source": [
    "rfl.fit(x_train, y_train) "
   ]
  },
  {
   "cell_type": "code",
   "execution_count": 152,
   "metadata": {},
   "outputs": [
    {
     "name": "stdout",
     "output_type": "stream",
     "text": [
      "Train R^2 0.9677009917135567\n",
      "Test R^2 0.7816431464680643\n"
     ]
    }
   ],
   "source": [
    "print(\"Train R^2\", rfl.score(x_train, y_train))\n",
    "print(\"Test R^2\", rfl.score(x_test, y_test))"
   ]
  },
  {
   "cell_type": "code",
   "execution_count": 153,
   "metadata": {},
   "outputs": [
    {
     "name": "stdout",
     "output_type": "stream",
     "text": [
      "RMSE of Train:  1.6750138079787422\n",
      "RMSE of Test:  4.410545179809818\n"
     ]
    }
   ],
   "source": [
    "print(\"RMSE of Train: \", np.sqrt(np.mean((y_train-rfl.predict(x_train))**2) ))\n",
    "print(\"RMSE of Test: \", np.sqrt(np.mean((y_test-rfl.predict(x_test))**2) ))"
   ]
  },
  {
   "cell_type": "code",
   "execution_count": 154,
   "metadata": {},
   "outputs": [
    {
     "name": "stdout",
     "output_type": "stream",
     "text": [
      "MSE of Train:  2.8056712569194464\n",
      "MSE of Test:  19.452908783143616\n"
     ]
    }
   ],
   "source": [
    "print(\"MSE of Train: \", np.mean((y_train-rfl.predict(x_train))**2) )\n",
    "print(\"MSE of Test: \", np.mean((y_test-rfl.predict(x_test))**2) )"
   ]
  },
  {
   "cell_type": "code",
   "execution_count": 155,
   "metadata": {},
   "outputs": [
    {
     "data": {
      "text/html": [
       "<div>\n",
       "<style scoped>\n",
       "    .dataframe tbody tr th:only-of-type {\n",
       "        vertical-align: middle;\n",
       "    }\n",
       "\n",
       "    .dataframe tbody tr th {\n",
       "        vertical-align: top;\n",
       "    }\n",
       "\n",
       "    .dataframe thead th {\n",
       "        text-align: right;\n",
       "    }\n",
       "</style>\n",
       "<table border=\"1\" class=\"dataframe\">\n",
       "  <thead>\n",
       "    <tr style=\"text-align: right;\">\n",
       "      <th></th>\n",
       "      <th>Var</th>\n",
       "      <th>Imp</th>\n",
       "    </tr>\n",
       "  </thead>\n",
       "  <tbody>\n",
       "    <tr>\n",
       "      <th>2</th>\n",
       "      <td>euclidean</td>\n",
       "      <td>0.80</td>\n",
       "    </tr>\n",
       "    <tr>\n",
       "      <th>1</th>\n",
       "      <td>abs_lon_diff</td>\n",
       "      <td>0.03</td>\n",
       "    </tr>\n",
       "    <tr>\n",
       "      <th>0</th>\n",
       "      <td>abs_lat_diff</td>\n",
       "      <td>0.03</td>\n",
       "    </tr>\n",
       "    <tr>\n",
       "      <th>7</th>\n",
       "      <td>minute</td>\n",
       "      <td>0.03</td>\n",
       "    </tr>\n",
       "    <tr>\n",
       "      <th>3</th>\n",
       "      <td>day</td>\n",
       "      <td>0.02</td>\n",
       "    </tr>\n",
       "    <tr>\n",
       "      <th>...</th>\n",
       "      <td>...</td>\n",
       "      <td>...</td>\n",
       "    </tr>\n",
       "    <tr>\n",
       "      <th>15</th>\n",
       "      <td>q4</td>\n",
       "      <td>0.00</td>\n",
       "    </tr>\n",
       "    <tr>\n",
       "      <th>8</th>\n",
       "      <td>IsMonthStart</td>\n",
       "      <td>0.00</td>\n",
       "    </tr>\n",
       "    <tr>\n",
       "      <th>9</th>\n",
       "      <td>IsMonthEnd</td>\n",
       "      <td>0.00</td>\n",
       "    </tr>\n",
       "    <tr>\n",
       "      <th>20</th>\n",
       "      <td>Night</td>\n",
       "      <td>0.00</td>\n",
       "    </tr>\n",
       "    <tr>\n",
       "      <th>21</th>\n",
       "      <td>LateNight</td>\n",
       "      <td>0.00</td>\n",
       "    </tr>\n",
       "  </tbody>\n",
       "</table>\n",
       "<p>22 rows × 2 columns</p>\n",
       "</div>"
      ],
      "text/plain": [
       "             Var  Imp\n",
       "2      euclidean 0.80\n",
       "1   abs_lon_diff 0.03\n",
       "0   abs_lat_diff 0.03\n",
       "7         minute 0.03\n",
       "3            day 0.02\n",
       "..           ...  ...\n",
       "15            q4 0.00\n",
       "8   IsMonthStart 0.00\n",
       "9     IsMonthEnd 0.00\n",
       "20         Night 0.00\n",
       "21     LateNight 0.00\n",
       "\n",
       "[22 rows x 2 columns]"
      ]
     },
     "execution_count": 155,
     "metadata": {},
     "output_type": "execute_result"
    }
   ],
   "source": [
    "pd.DataFrame({\"Var\": x_train.columns, \"Imp\":rfl.feature_importances_}).sort_values(by=[\"Imp\"], ascending=False)"
   ]
  }
 ],
 "metadata": {
  "kernelspec": {
   "display_name": "Python 3 (ipykernel)",
   "language": "python",
   "name": "python3"
  },
  "language_info": {
   "codemirror_mode": {
    "name": "ipython",
    "version": 3
   },
   "file_extension": ".py",
   "mimetype": "text/x-python",
   "name": "python",
   "nbconvert_exporter": "python",
   "pygments_lexer": "ipython3",
   "version": "3.9.7"
  }
 },
 "nbformat": 4,
 "nbformat_minor": 2
}
