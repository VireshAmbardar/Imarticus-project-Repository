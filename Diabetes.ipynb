{
 "cells": [
  {
   "cell_type": "code",
   "execution_count": 1,
   "id": "8542a50a",
   "metadata": {},
   "outputs": [],
   "source": [
    "import os\n",
    "#used to connect notebook to the drive(could be local or cloud)\n",
    "import seaborn as sns\n",
    "import matplotlib.pyplot as plt\n",
    "import warnings\n",
    "warnings.filterwarnings('ignore')\n",
    "import numpy as np\n",
    "import pandas as pd"
   ]
  },
  {
   "cell_type": "code",
   "execution_count": 2,
   "id": "d20c3600",
   "metadata": {},
   "outputs": [],
   "source": [
    "os.chdir(r\"C:\\Users\\Karan\\OneDrive\\Desktop\\New folder (2)\\ML\")"
   ]
  },
  {
   "cell_type": "code",
   "execution_count": 3,
   "id": "00e60812",
   "metadata": {},
   "outputs": [],
   "source": [
    "df=pd.read_csv('diabetes.csv')"
   ]
  },
  {
   "cell_type": "code",
   "execution_count": 4,
   "id": "481a83e4",
   "metadata": {},
   "outputs": [
    {
     "data": {
      "text/plain": [
       "(768, 9)"
      ]
     },
     "execution_count": 4,
     "metadata": {},
     "output_type": "execute_result"
    }
   ],
   "source": [
    "df.shape"
   ]
  },
  {
   "cell_type": "code",
   "execution_count": 5,
   "id": "4a36daef",
   "metadata": {},
   "outputs": [
    {
     "data": {
      "text/html": [
       "<div>\n",
       "<style scoped>\n",
       "    .dataframe tbody tr th:only-of-type {\n",
       "        vertical-align: middle;\n",
       "    }\n",
       "\n",
       "    .dataframe tbody tr th {\n",
       "        vertical-align: top;\n",
       "    }\n",
       "\n",
       "    .dataframe thead th {\n",
       "        text-align: right;\n",
       "    }\n",
       "</style>\n",
       "<table border=\"1\" class=\"dataframe\">\n",
       "  <thead>\n",
       "    <tr style=\"text-align: right;\">\n",
       "      <th></th>\n",
       "      <th>Pregnancies</th>\n",
       "      <th>Glucose</th>\n",
       "      <th>BloodPressure</th>\n",
       "      <th>SkinThickness</th>\n",
       "      <th>Insulin</th>\n",
       "      <th>BMI</th>\n",
       "      <th>DiabetesPedigreeFunction</th>\n",
       "      <th>Age</th>\n",
       "      <th>Outcome</th>\n",
       "    </tr>\n",
       "  </thead>\n",
       "  <tbody>\n",
       "    <tr>\n",
       "      <th>0</th>\n",
       "      <td>6</td>\n",
       "      <td>148</td>\n",
       "      <td>72</td>\n",
       "      <td>35</td>\n",
       "      <td>0</td>\n",
       "      <td>33.6</td>\n",
       "      <td>0.627</td>\n",
       "      <td>50</td>\n",
       "      <td>1</td>\n",
       "    </tr>\n",
       "    <tr>\n",
       "      <th>1</th>\n",
       "      <td>1</td>\n",
       "      <td>85</td>\n",
       "      <td>66</td>\n",
       "      <td>29</td>\n",
       "      <td>0</td>\n",
       "      <td>26.6</td>\n",
       "      <td>0.351</td>\n",
       "      <td>31</td>\n",
       "      <td>0</td>\n",
       "    </tr>\n",
       "    <tr>\n",
       "      <th>2</th>\n",
       "      <td>8</td>\n",
       "      <td>183</td>\n",
       "      <td>64</td>\n",
       "      <td>0</td>\n",
       "      <td>0</td>\n",
       "      <td>23.3</td>\n",
       "      <td>0.672</td>\n",
       "      <td>32</td>\n",
       "      <td>1</td>\n",
       "    </tr>\n",
       "    <tr>\n",
       "      <th>3</th>\n",
       "      <td>1</td>\n",
       "      <td>89</td>\n",
       "      <td>66</td>\n",
       "      <td>23</td>\n",
       "      <td>94</td>\n",
       "      <td>28.1</td>\n",
       "      <td>0.167</td>\n",
       "      <td>21</td>\n",
       "      <td>0</td>\n",
       "    </tr>\n",
       "    <tr>\n",
       "      <th>4</th>\n",
       "      <td>0</td>\n",
       "      <td>137</td>\n",
       "      <td>40</td>\n",
       "      <td>35</td>\n",
       "      <td>168</td>\n",
       "      <td>43.1</td>\n",
       "      <td>2.288</td>\n",
       "      <td>33</td>\n",
       "      <td>1</td>\n",
       "    </tr>\n",
       "  </tbody>\n",
       "</table>\n",
       "</div>"
      ],
      "text/plain": [
       "   Pregnancies  Glucose  BloodPressure  SkinThickness  Insulin   BMI  \\\n",
       "0            6      148             72             35        0  33.6   \n",
       "1            1       85             66             29        0  26.6   \n",
       "2            8      183             64              0        0  23.3   \n",
       "3            1       89             66             23       94  28.1   \n",
       "4            0      137             40             35      168  43.1   \n",
       "\n",
       "   DiabetesPedigreeFunction  Age  Outcome  \n",
       "0                     0.627   50        1  \n",
       "1                     0.351   31        0  \n",
       "2                     0.672   32        1  \n",
       "3                     0.167   21        0  \n",
       "4                     2.288   33        1  "
      ]
     },
     "execution_count": 5,
     "metadata": {},
     "output_type": "execute_result"
    }
   ],
   "source": [
    "df.head()"
   ]
  },
  {
   "cell_type": "code",
   "execution_count": 6,
   "id": "48048c82",
   "metadata": {},
   "outputs": [
    {
     "data": {
      "text/html": [
       "<div>\n",
       "<style scoped>\n",
       "    .dataframe tbody tr th:only-of-type {\n",
       "        vertical-align: middle;\n",
       "    }\n",
       "\n",
       "    .dataframe tbody tr th {\n",
       "        vertical-align: top;\n",
       "    }\n",
       "\n",
       "    .dataframe thead th {\n",
       "        text-align: right;\n",
       "    }\n",
       "</style>\n",
       "<table border=\"1\" class=\"dataframe\">\n",
       "  <thead>\n",
       "    <tr style=\"text-align: right;\">\n",
       "      <th></th>\n",
       "      <th>count</th>\n",
       "      <th>mean</th>\n",
       "      <th>std</th>\n",
       "      <th>min</th>\n",
       "      <th>1%</th>\n",
       "      <th>2.5%</th>\n",
       "      <th>5%</th>\n",
       "      <th>50%</th>\n",
       "      <th>95%</th>\n",
       "      <th>97.5%</th>\n",
       "      <th>98%</th>\n",
       "      <th>99%</th>\n",
       "      <th>99.5%</th>\n",
       "      <th>max</th>\n",
       "    </tr>\n",
       "  </thead>\n",
       "  <tbody>\n",
       "    <tr>\n",
       "      <th>Pregnancies</th>\n",
       "      <td>768.0</td>\n",
       "      <td>3.845052</td>\n",
       "      <td>3.369578</td>\n",
       "      <td>0.000</td>\n",
       "      <td>0.00000</td>\n",
       "      <td>0.000000</td>\n",
       "      <td>0.00000</td>\n",
       "      <td>3.0000</td>\n",
       "      <td>10.00000</td>\n",
       "      <td>12.00000</td>\n",
       "      <td>12.00000</td>\n",
       "      <td>13.00000</td>\n",
       "      <td>13.16500</td>\n",
       "      <td>17.00</td>\n",
       "    </tr>\n",
       "    <tr>\n",
       "      <th>Glucose</th>\n",
       "      <td>768.0</td>\n",
       "      <td>120.894531</td>\n",
       "      <td>31.972618</td>\n",
       "      <td>0.000</td>\n",
       "      <td>57.00000</td>\n",
       "      <td>71.175000</td>\n",
       "      <td>79.00000</td>\n",
       "      <td>117.0000</td>\n",
       "      <td>181.00000</td>\n",
       "      <td>189.00000</td>\n",
       "      <td>192.32000</td>\n",
       "      <td>196.00000</td>\n",
       "      <td>197.00000</td>\n",
       "      <td>199.00</td>\n",
       "    </tr>\n",
       "    <tr>\n",
       "      <th>BloodPressure</th>\n",
       "      <td>768.0</td>\n",
       "      <td>69.105469</td>\n",
       "      <td>19.355807</td>\n",
       "      <td>0.000</td>\n",
       "      <td>0.00000</td>\n",
       "      <td>0.000000</td>\n",
       "      <td>38.70000</td>\n",
       "      <td>72.0000</td>\n",
       "      <td>90.00000</td>\n",
       "      <td>96.00000</td>\n",
       "      <td>99.32000</td>\n",
       "      <td>106.00000</td>\n",
       "      <td>110.00000</td>\n",
       "      <td>122.00</td>\n",
       "    </tr>\n",
       "    <tr>\n",
       "      <th>SkinThickness</th>\n",
       "      <td>768.0</td>\n",
       "      <td>20.536458</td>\n",
       "      <td>15.952218</td>\n",
       "      <td>0.000</td>\n",
       "      <td>0.00000</td>\n",
       "      <td>0.000000</td>\n",
       "      <td>0.00000</td>\n",
       "      <td>23.0000</td>\n",
       "      <td>44.00000</td>\n",
       "      <td>47.00000</td>\n",
       "      <td>48.00000</td>\n",
       "      <td>51.33000</td>\n",
       "      <td>54.33000</td>\n",
       "      <td>99.00</td>\n",
       "    </tr>\n",
       "    <tr>\n",
       "      <th>Insulin</th>\n",
       "      <td>768.0</td>\n",
       "      <td>79.799479</td>\n",
       "      <td>115.244002</td>\n",
       "      <td>0.000</td>\n",
       "      <td>0.00000</td>\n",
       "      <td>0.000000</td>\n",
       "      <td>0.00000</td>\n",
       "      <td>30.5000</td>\n",
       "      <td>293.00000</td>\n",
       "      <td>400.25000</td>\n",
       "      <td>470.94000</td>\n",
       "      <td>519.90000</td>\n",
       "      <td>582.46500</td>\n",
       "      <td>846.00</td>\n",
       "    </tr>\n",
       "    <tr>\n",
       "      <th>BMI</th>\n",
       "      <td>768.0</td>\n",
       "      <td>31.992578</td>\n",
       "      <td>7.884160</td>\n",
       "      <td>0.000</td>\n",
       "      <td>0.00000</td>\n",
       "      <td>19.517500</td>\n",
       "      <td>21.80000</td>\n",
       "      <td>32.0000</td>\n",
       "      <td>44.39500</td>\n",
       "      <td>46.46500</td>\n",
       "      <td>47.52600</td>\n",
       "      <td>50.75900</td>\n",
       "      <td>53.49700</td>\n",
       "      <td>67.10</td>\n",
       "    </tr>\n",
       "    <tr>\n",
       "      <th>DiabetesPedigreeFunction</th>\n",
       "      <td>768.0</td>\n",
       "      <td>0.471876</td>\n",
       "      <td>0.331329</td>\n",
       "      <td>0.078</td>\n",
       "      <td>0.09468</td>\n",
       "      <td>0.123525</td>\n",
       "      <td>0.14035</td>\n",
       "      <td>0.3725</td>\n",
       "      <td>1.13285</td>\n",
       "      <td>1.31345</td>\n",
       "      <td>1.39066</td>\n",
       "      <td>1.69833</td>\n",
       "      <td>1.93326</td>\n",
       "      <td>2.42</td>\n",
       "    </tr>\n",
       "    <tr>\n",
       "      <th>Age</th>\n",
       "      <td>768.0</td>\n",
       "      <td>33.240885</td>\n",
       "      <td>11.760232</td>\n",
       "      <td>21.000</td>\n",
       "      <td>21.00000</td>\n",
       "      <td>21.000000</td>\n",
       "      <td>21.00000</td>\n",
       "      <td>29.0000</td>\n",
       "      <td>58.00000</td>\n",
       "      <td>63.00000</td>\n",
       "      <td>64.66000</td>\n",
       "      <td>67.00000</td>\n",
       "      <td>69.00000</td>\n",
       "      <td>81.00</td>\n",
       "    </tr>\n",
       "    <tr>\n",
       "      <th>Outcome</th>\n",
       "      <td>768.0</td>\n",
       "      <td>0.348958</td>\n",
       "      <td>0.476951</td>\n",
       "      <td>0.000</td>\n",
       "      <td>0.00000</td>\n",
       "      <td>0.000000</td>\n",
       "      <td>0.00000</td>\n",
       "      <td>0.0000</td>\n",
       "      <td>1.00000</td>\n",
       "      <td>1.00000</td>\n",
       "      <td>1.00000</td>\n",
       "      <td>1.00000</td>\n",
       "      <td>1.00000</td>\n",
       "      <td>1.00</td>\n",
       "    </tr>\n",
       "  </tbody>\n",
       "</table>\n",
       "</div>"
      ],
      "text/plain": [
       "                          count        mean         std     min        1%  \\\n",
       "Pregnancies               768.0    3.845052    3.369578   0.000   0.00000   \n",
       "Glucose                   768.0  120.894531   31.972618   0.000  57.00000   \n",
       "BloodPressure             768.0   69.105469   19.355807   0.000   0.00000   \n",
       "SkinThickness             768.0   20.536458   15.952218   0.000   0.00000   \n",
       "Insulin                   768.0   79.799479  115.244002   0.000   0.00000   \n",
       "BMI                       768.0   31.992578    7.884160   0.000   0.00000   \n",
       "DiabetesPedigreeFunction  768.0    0.471876    0.331329   0.078   0.09468   \n",
       "Age                       768.0   33.240885   11.760232  21.000  21.00000   \n",
       "Outcome                   768.0    0.348958    0.476951   0.000   0.00000   \n",
       "\n",
       "                               2.5%        5%       50%        95%      97.5%  \\\n",
       "Pregnancies                0.000000   0.00000    3.0000   10.00000   12.00000   \n",
       "Glucose                   71.175000  79.00000  117.0000  181.00000  189.00000   \n",
       "BloodPressure              0.000000  38.70000   72.0000   90.00000   96.00000   \n",
       "SkinThickness              0.000000   0.00000   23.0000   44.00000   47.00000   \n",
       "Insulin                    0.000000   0.00000   30.5000  293.00000  400.25000   \n",
       "BMI                       19.517500  21.80000   32.0000   44.39500   46.46500   \n",
       "DiabetesPedigreeFunction   0.123525   0.14035    0.3725    1.13285    1.31345   \n",
       "Age                       21.000000  21.00000   29.0000   58.00000   63.00000   \n",
       "Outcome                    0.000000   0.00000    0.0000    1.00000    1.00000   \n",
       "\n",
       "                                98%        99%      99.5%     max  \n",
       "Pregnancies                12.00000   13.00000   13.16500   17.00  \n",
       "Glucose                   192.32000  196.00000  197.00000  199.00  \n",
       "BloodPressure              99.32000  106.00000  110.00000  122.00  \n",
       "SkinThickness              48.00000   51.33000   54.33000   99.00  \n",
       "Insulin                   470.94000  519.90000  582.46500  846.00  \n",
       "BMI                        47.52600   50.75900   53.49700   67.10  \n",
       "DiabetesPedigreeFunction    1.39066    1.69833    1.93326    2.42  \n",
       "Age                        64.66000   67.00000   69.00000   81.00  \n",
       "Outcome                     1.00000    1.00000    1.00000    1.00  "
      ]
     },
     "execution_count": 6,
     "metadata": {},
     "output_type": "execute_result"
    }
   ],
   "source": [
    "df.describe(percentiles=[0.01,.025,0.05,.95,.975,.98,.99,.995]).T"
   ]
  },
  {
   "cell_type": "code",
   "execution_count": 7,
   "id": "85e55dcc",
   "metadata": {},
   "outputs": [],
   "source": [
    "df2=df.copy()"
   ]
  },
  {
   "cell_type": "code",
   "execution_count": 8,
   "id": "011acf9a",
   "metadata": {},
   "outputs": [
    {
     "data": {
      "text/plain": [
       "0.009114583333333334"
      ]
     },
     "execution_count": 8,
     "metadata": {},
     "output_type": "execute_result"
    }
   ],
   "source": [
    "# Dropping rows where BP,ST,In & BMI all are missing (Only 7 rows affected) <0.1%\n",
    "7/768"
   ]
  },
  {
   "cell_type": "code",
   "execution_count": 9,
   "id": "a70a2de4",
   "metadata": {},
   "outputs": [],
   "source": [
    "dfn=df2.drop(df2[(df2['BloodPressure']==0)&(df2['SkinThickness']==0)&(df2['Insulin']==0)&(df2['BMI']==0)].index)"
   ]
  },
  {
   "cell_type": "code",
   "execution_count": 10,
   "id": "d43a3d20",
   "metadata": {},
   "outputs": [
    {
     "data": {
      "text/plain": [
       "(761, 9)"
      ]
     },
     "execution_count": 10,
     "metadata": {},
     "output_type": "execute_result"
    }
   ],
   "source": [
    "dfn.shape"
   ]
  },
  {
   "cell_type": "markdown",
   "id": "cae3b369",
   "metadata": {},
   "source": [
    "##### BMI"
   ]
  },
  {
   "cell_type": "code",
   "execution_count": 11,
   "id": "cd0374ff",
   "metadata": {},
   "outputs": [],
   "source": [
    "# Replacing missing BloodPressures with mean of BloodPressures (as mean and median are close)"
   ]
  },
  {
   "cell_type": "code",
   "execution_count": 12,
   "id": "ccc85d2f",
   "metadata": {},
   "outputs": [
    {
     "data": {
      "text/plain": [
       "72.40518417462484"
      ]
     },
     "execution_count": 12,
     "metadata": {},
     "output_type": "execute_result"
    }
   ],
   "source": [
    "bpm=dfn[dfn['BloodPressure']!=0].BloodPressure.sum()/len(dfn[dfn['BloodPressure']!=0])\n",
    "bpm"
   ]
  },
  {
   "cell_type": "code",
   "execution_count": 13,
   "id": "6e995e87",
   "metadata": {},
   "outputs": [
    {
     "data": {
      "text/plain": [
       "72.0"
      ]
     },
     "execution_count": 13,
     "metadata": {},
     "output_type": "execute_result"
    }
   ],
   "source": [
    "dfn[dfn['BloodPressure']!=0].BloodPressure.median()"
   ]
  },
  {
   "cell_type": "code",
   "execution_count": 14,
   "id": "6de85bb6",
   "metadata": {},
   "outputs": [],
   "source": [
    "dfn['BloodPressure']=np.where(dfn['BloodPressure']==0,bpm,dfn['BloodPressure'])"
   ]
  },
  {
   "cell_type": "markdown",
   "id": "f8af7195",
   "metadata": {},
   "source": [
    "##### Pregnancies"
   ]
  },
  {
   "cell_type": "code",
   "execution_count": 15,
   "id": "0a887167",
   "metadata": {},
   "outputs": [],
   "source": [
    "# Capping Pregnancy to 10 months"
   ]
  },
  {
   "cell_type": "code",
   "execution_count": 16,
   "id": "77db691b",
   "metadata": {},
   "outputs": [],
   "source": [
    "dfn['Pregnancies']=np.where(dfn['Pregnancies']>10,10,dfn['Pregnancies'])"
   ]
  },
  {
   "cell_type": "code",
   "execution_count": 17,
   "id": "33b1ccbb",
   "metadata": {},
   "outputs": [
    {
     "data": {
      "text/plain": [
       "1     135\n",
       "0     110\n",
       "2     101\n",
       "3      74\n",
       "4      68\n",
       "5      57\n",
       "10     57\n",
       "6      49\n",
       "7      44\n",
       "8      38\n",
       "9      28\n",
       "Name: Pregnancies, dtype: int64"
      ]
     },
     "execution_count": 17,
     "metadata": {},
     "output_type": "execute_result"
    }
   ],
   "source": [
    "dfn['Pregnancies'].value_counts()"
   ]
  },
  {
   "cell_type": "markdown",
   "id": "9e0177af",
   "metadata": {},
   "source": [
    "##### SkinThickness"
   ]
  },
  {
   "cell_type": "code",
   "execution_count": 18,
   "id": "ec9d97c2",
   "metadata": {},
   "outputs": [],
   "source": [
    "# capping the skinthickness to 63  & replacing missing values with the mean/median(skewness only because of 0)"
   ]
  },
  {
   "cell_type": "code",
   "execution_count": 19,
   "id": "541abac2",
   "metadata": {},
   "outputs": [],
   "source": [
    "dfn['SkinThickness']=np.where(dfn['SkinThickness']>63,63,dfn['SkinThickness'])"
   ]
  },
  {
   "cell_type": "code",
   "execution_count": 20,
   "id": "a7bc0547",
   "metadata": {},
   "outputs": [
    {
     "data": {
      "text/plain": [
       "29.086876155268023"
      ]
     },
     "execution_count": 20,
     "metadata": {},
     "output_type": "execute_result"
    }
   ],
   "source": [
    "skt=dfn[dfn['SkinThickness']!=0].SkinThickness.sum()/len(dfn[dfn['SkinThickness']!=0])\n",
    "skt "
   ]
  },
  {
   "cell_type": "code",
   "execution_count": 21,
   "id": "5206227a",
   "metadata": {},
   "outputs": [
    {
     "data": {
      "text/plain": [
       "<AxesSubplot:xlabel='SkinThickness', ylabel='Density'>"
      ]
     },
     "execution_count": 21,
     "metadata": {},
     "output_type": "execute_result"
    },
    {
     "data": {
      "image/png": "[encoded data removed]",
      "text/plain": [
       "<Figure size 432x288 with 1 Axes>"
      ]
     },
     "metadata": {
      "needs_background": "light"
     },
     "output_type": "display_data"
    }
   ],
   "source": [
    "sns.distplot(dfn[dfn['SkinThickness']!=0].SkinThickness,bins=20)"
   ]
  },
  {
   "cell_type": "code",
   "execution_count": 22,
   "id": "61314b75",
   "metadata": {},
   "outputs": [
    {
     "data": {
      "text/plain": [
       "29.0"
      ]
     },
     "execution_count": 22,
     "metadata": {},
     "output_type": "execute_result"
    }
   ],
   "source": [
    "dfn[dfn['SkinThickness']!=0].SkinThickness.median()"
   ]
  },
  {
   "cell_type": "code",
   "execution_count": 23,
   "id": "6383d7ef",
   "metadata": {},
   "outputs": [],
   "source": [
    "dfn['SkinThickness']=np.where(dfn['SkinThickness']==0,skt,dfn['SkinThickness'])"
   ]
  },
  {
   "cell_type": "markdown",
   "id": "2965dc2c",
   "metadata": {},
   "source": [
    "##### Glucose"
   ]
  },
  {
   "cell_type": "code",
   "execution_count": 24,
   "id": "9d19fdac",
   "metadata": {},
   "outputs": [],
   "source": [
    "dfn['Glucose']=np.where(dfn['Glucose']==0,dfn['Glucose'].median(),dfn['Glucose'])"
   ]
  },
  {
   "cell_type": "code",
   "execution_count": 25,
   "id": "587ff886",
   "metadata": {},
   "outputs": [
    {
     "data": {
      "text/plain": [
       "99.0     17\n",
       "100.0    17\n",
       "117.0    16\n",
       "125.0    14\n",
       "129.0    14\n",
       "         ..\n",
       "191.0     1\n",
       "177.0     1\n",
       "44.0      1\n",
       "62.0      1\n",
       "190.0     1\n",
       "Name: Glucose, Length: 135, dtype: int64"
      ]
     },
     "execution_count": 25,
     "metadata": {},
     "output_type": "execute_result"
    }
   ],
   "source": [
    "dfn['Glucose'].value_counts()"
   ]
  },
  {
   "cell_type": "markdown",
   "id": "350170b6",
   "metadata": {},
   "source": [
    "##### BMI"
   ]
  },
  {
   "cell_type": "code",
   "execution_count": 26,
   "id": "f6f30b8d",
   "metadata": {},
   "outputs": [
    {
     "data": {
      "text/plain": [
       "32.2"
      ]
     },
     "execution_count": 26,
     "metadata": {},
     "output_type": "execute_result"
    }
   ],
   "source": [
    "bm=dfn['BMI'].median()\n",
    "bm"
   ]
  },
  {
   "cell_type": "code",
   "execution_count": 27,
   "id": "466d6f7f",
   "metadata": {},
   "outputs": [],
   "source": [
    "dfn['BMI']=np.where(dfn['BMI']==0,bm,dfn['BMI'])"
   ]
  },
  {
   "cell_type": "markdown",
   "id": "48960f04",
   "metadata": {},
   "source": [
    "##### DiabetesPedigreeFunction"
   ]
  },
  {
   "cell_type": "code",
   "execution_count": 28,
   "id": "13c6c6fd",
   "metadata": {},
   "outputs": [],
   "source": [
    "# Capping to 1"
   ]
  },
  {
   "cell_type": "code",
   "execution_count": 29,
   "id": "85ecf464",
   "metadata": {},
   "outputs": [],
   "source": [
    "dfn['DiabetesPedigreeFunction']=np.where(dfn['DiabetesPedigreeFunction']>1,1,dfn['DiabetesPedigreeFunction'])"
   ]
  },
  {
   "cell_type": "code",
   "execution_count": 30,
   "id": "0ef8ff87",
   "metadata": {
    "scrolled": true
   },
   "outputs": [
    {
     "data": {
      "text/html": [
       "<div>\n",
       "<style scoped>\n",
       "    .dataframe tbody tr th:only-of-type {\n",
       "        vertical-align: middle;\n",
       "    }\n",
       "\n",
       "    .dataframe tbody tr th {\n",
       "        vertical-align: top;\n",
       "    }\n",
       "\n",
       "    .dataframe thead th {\n",
       "        text-align: right;\n",
       "    }\n",
       "</style>\n",
       "<table border=\"1\" class=\"dataframe\">\n",
       "  <thead>\n",
       "    <tr style=\"text-align: right;\">\n",
       "      <th></th>\n",
       "      <th>Pregnancies</th>\n",
       "      <th>Glucose</th>\n",
       "      <th>BloodPressure</th>\n",
       "      <th>SkinThickness</th>\n",
       "      <th>Insulin</th>\n",
       "      <th>BMI</th>\n",
       "      <th>DiabetesPedigreeFunction</th>\n",
       "      <th>Age</th>\n",
       "      <th>Outcome</th>\n",
       "    </tr>\n",
       "  </thead>\n",
       "  <tbody>\n",
       "    <tr>\n",
       "      <th>0</th>\n",
       "      <td>6</td>\n",
       "      <td>148.0</td>\n",
       "      <td>72.0</td>\n",
       "      <td>35.000000</td>\n",
       "      <td>0</td>\n",
       "      <td>33.6</td>\n",
       "      <td>0.627</td>\n",
       "      <td>50</td>\n",
       "      <td>1</td>\n",
       "    </tr>\n",
       "    <tr>\n",
       "      <th>1</th>\n",
       "      <td>1</td>\n",
       "      <td>85.0</td>\n",
       "      <td>66.0</td>\n",
       "      <td>29.000000</td>\n",
       "      <td>0</td>\n",
       "      <td>26.6</td>\n",
       "      <td>0.351</td>\n",
       "      <td>31</td>\n",
       "      <td>0</td>\n",
       "    </tr>\n",
       "    <tr>\n",
       "      <th>2</th>\n",
       "      <td>8</td>\n",
       "      <td>183.0</td>\n",
       "      <td>64.0</td>\n",
       "      <td>29.086876</td>\n",
       "      <td>0</td>\n",
       "      <td>23.3</td>\n",
       "      <td>0.672</td>\n",
       "      <td>32</td>\n",
       "      <td>1</td>\n",
       "    </tr>\n",
       "    <tr>\n",
       "      <th>3</th>\n",
       "      <td>1</td>\n",
       "      <td>89.0</td>\n",
       "      <td>66.0</td>\n",
       "      <td>23.000000</td>\n",
       "      <td>94</td>\n",
       "      <td>28.1</td>\n",
       "      <td>0.167</td>\n",
       "      <td>21</td>\n",
       "      <td>0</td>\n",
       "    </tr>\n",
       "    <tr>\n",
       "      <th>4</th>\n",
       "      <td>0</td>\n",
       "      <td>137.0</td>\n",
       "      <td>40.0</td>\n",
       "      <td>35.000000</td>\n",
       "      <td>168</td>\n",
       "      <td>43.1</td>\n",
       "      <td>1.000</td>\n",
       "      <td>33</td>\n",
       "      <td>1</td>\n",
       "    </tr>\n",
       "  </tbody>\n",
       "</table>\n",
       "</div>"
      ],
      "text/plain": [
       "   Pregnancies  Glucose  BloodPressure  SkinThickness  Insulin   BMI  \\\n",
       "0            6    148.0           72.0      35.000000        0  33.6   \n",
       "1            1     85.0           66.0      29.000000        0  26.6   \n",
       "2            8    183.0           64.0      29.086876        0  23.3   \n",
       "3            1     89.0           66.0      23.000000       94  28.1   \n",
       "4            0    137.0           40.0      35.000000      168  43.1   \n",
       "\n",
       "   DiabetesPedigreeFunction  Age  Outcome  \n",
       "0                     0.627   50        1  \n",
       "1                     0.351   31        0  \n",
       "2                     0.672   32        1  \n",
       "3                     0.167   21        0  \n",
       "4                     1.000   33        1  "
      ]
     },
     "execution_count": 30,
     "metadata": {},
     "output_type": "execute_result"
    }
   ],
   "source": [
    "dfn.head()"
   ]
  },
  {
   "cell_type": "markdown",
   "id": "710f55fe",
   "metadata": {},
   "source": [
    "#### Insulin"
   ]
  },
  {
   "cell_type": "code",
   "execution_count": null,
   "id": "7504bde3",
   "metadata": {},
   "outputs": [],
   "source": [
    "dfn['Insulin']=np.where(dfn['Insulin']==0,dfn['Insulin'].median(),dfn['Insulin'])"
   ]
  },
  {
   "cell_type": "code",
   "execution_count": 227,
   "id": "7c3ffb91",
   "metadata": {},
   "outputs": [],
   "source": [
    "def outlier_capping(x):\n",
    "    x=x.clip(upper=x.quantile(0.99))\n",
    "#     x=x.clip(lower=x.quantile(0.01))   #remove if lower outliers needed \n",
    "    return x"
   ]
  },
  {
   "cell_type": "code",
   "execution_count": null,
   "id": "b8983450",
   "metadata": {},
   "outputs": [],
   "source": [
    "outlier_capping(dfn['Insulin'])"
   ]
  },
  {
   "cell_type": "code",
   "execution_count": null,
   "id": "edca3096",
   "metadata": {},
   "outputs": [],
   "source": []
  },
  {
   "cell_type": "code",
   "execution_count": 31,
   "id": "790c96d0",
   "metadata": {},
   "outputs": [
    {
     "data": {
      "image/png": "[encoded data removed]",
      "text/plain": [
       "<Figure size 432x288 with 2 Axes>"
      ]
     },
     "metadata": {
      "needs_background": "light"
     },
     "output_type": "display_data"
    }
   ],
   "source": [
    "sns.heatmap(dfn.corr(), cmap=\"YlGnBu\", annot=True) \n",
    "plt.show()"
   ]
  },
  {
   "cell_type": "code",
   "execution_count": 32,
   "id": "9c78dbc6",
   "metadata": {},
   "outputs": [
    {
     "data": {
      "text/plain": [
       "Pregnancies    Age        0.558036\n",
       "Glucose        Outcome    0.491450\n",
       "SkinThickness  BMI        0.558960\n",
       "dtype: float64"
      ]
     },
     "execution_count": 32,
     "metadata": {},
     "output_type": "execute_result"
    }
   ],
   "source": [
    "abc=dfn.corr()\n",
    "abc[(abc > 0.4) & (abc < 1.0)].stack()[0:3]"
   ]
  },
  {
   "cell_type": "code",
   "execution_count": 33,
   "id": "cfbdbbcd",
   "metadata": {},
   "outputs": [],
   "source": [
    "# Data is cleaned. Now,\n",
    "# converting into categories"
   ]
  },
  {
   "cell_type": "code",
   "execution_count": 72,
   "id": "83b889f5",
   "metadata": {},
   "outputs": [],
   "source": [
    "x=dfn.drop(columns=['Outcome'])\n",
    "y=dfn['Outcome']"
   ]
  },
  {
   "cell_type": "code",
   "execution_count": 73,
   "id": "4c8ff839",
   "metadata": {},
   "outputs": [],
   "source": [
    "# Checking VIF"
   ]
  },
  {
   "cell_type": "code",
   "execution_count": 34,
   "id": "bac734f1",
   "metadata": {
    "scrolled": true
   },
   "outputs": [
    {
     "ename": "NameError",
     "evalue": "name 'x' is not defined",
     "output_type": "error",
     "traceback": [
      "\u001b[1;31m---------------------------------------------------------------------------\u001b[0m",
      "\u001b[1;31mNameError\u001b[0m                                 Traceback (most recent call last)",
      "\u001b[1;32m~\\AppData\\Local\\Temp/ipykernel_20528/3242432307.py\u001b[0m in \u001b[0;36m<module>\u001b[1;34m\u001b[0m\n\u001b[0;32m      1\u001b[0m \u001b[1;32mfrom\u001b[0m \u001b[0mstatsmodels\u001b[0m\u001b[1;33m.\u001b[0m\u001b[0mstats\u001b[0m\u001b[1;33m.\u001b[0m\u001b[0moutliers_influence\u001b[0m \u001b[1;32mimport\u001b[0m \u001b[0mvariance_inflation_factor\u001b[0m\u001b[1;33m\u001b[0m\u001b[1;33m\u001b[0m\u001b[0m\n\u001b[0;32m      2\u001b[0m \u001b[0mvif_data\u001b[0m\u001b[1;33m=\u001b[0m\u001b[0mpd\u001b[0m\u001b[1;33m.\u001b[0m\u001b[0mDataFrame\u001b[0m\u001b[1;33m(\u001b[0m\u001b[1;33m)\u001b[0m\u001b[1;33m\u001b[0m\u001b[1;33m\u001b[0m\u001b[0m\n\u001b[1;32m----> 3\u001b[1;33m \u001b[0mvif_data\u001b[0m\u001b[1;33m[\u001b[0m\u001b[1;34m'Var'\u001b[0m\u001b[1;33m]\u001b[0m\u001b[1;33m=\u001b[0m\u001b[0mx\u001b[0m\u001b[1;33m.\u001b[0m\u001b[0mcolumns\u001b[0m\u001b[1;33m\u001b[0m\u001b[1;33m\u001b[0m\u001b[0m\n\u001b[0m\u001b[0;32m      4\u001b[0m \u001b[0mvif_data\u001b[0m\u001b[1;33m[\u001b[0m\u001b[1;34m'VIF'\u001b[0m\u001b[1;33m]\u001b[0m\u001b[1;33m=\u001b[0m\u001b[1;33m[\u001b[0m\u001b[0mvariance_inflation_factor\u001b[0m\u001b[1;33m(\u001b[0m\u001b[0mx\u001b[0m\u001b[1;33m.\u001b[0m\u001b[0mvalues\u001b[0m\u001b[1;33m,\u001b[0m\u001b[0mi\u001b[0m\u001b[1;33m)\u001b[0m \u001b[1;32mfor\u001b[0m \u001b[0mi\u001b[0m \u001b[1;32min\u001b[0m \u001b[0mrange\u001b[0m\u001b[1;33m(\u001b[0m\u001b[0mlen\u001b[0m\u001b[1;33m(\u001b[0m\u001b[0mx\u001b[0m\u001b[1;33m.\u001b[0m\u001b[0mcolumns\u001b[0m\u001b[1;33m)\u001b[0m\u001b[1;33m)\u001b[0m\u001b[1;33m]\u001b[0m\u001b[1;33m\u001b[0m\u001b[1;33m\u001b[0m\u001b[0m\n\u001b[0;32m      5\u001b[0m \u001b[0mvif_data\u001b[0m\u001b[1;33m.\u001b[0m\u001b[0msort_values\u001b[0m\u001b[1;33m(\u001b[0m\u001b[0mby\u001b[0m\u001b[1;33m=\u001b[0m\u001b[1;33m[\u001b[0m\u001b[1;34m'VIF'\u001b[0m\u001b[1;33m]\u001b[0m\u001b[1;33m,\u001b[0m\u001b[0mascending\u001b[0m\u001b[1;33m=\u001b[0m\u001b[1;32mFalse\u001b[0m\u001b[1;33m)\u001b[0m\u001b[1;33m\u001b[0m\u001b[1;33m\u001b[0m\u001b[0m\n",
      "\u001b[1;31mNameError\u001b[0m: name 'x' is not defined"
     ]
    }
   ],
   "source": [
    "from statsmodels.stats.outliers_influence import variance_inflation_factor\n",
    "vif_data=pd.DataFrame()\n",
    "vif_data['Var']=x.columns\n",
    "vif_data['VIF']=[variance_inflation_factor(x.values,i) for i in range(len(x.columns))]\n",
    "vif_data.sort_values(by=['VIF'],ascending=False)"
   ]
  },
  {
   "cell_type": "markdown",
   "id": "c43ff274",
   "metadata": {},
   "source": [
    "#### Age categorize"
   ]
  },
  {
   "cell_type": "code",
   "execution_count": 34,
   "id": "ff94f367",
   "metadata": {},
   "outputs": [],
   "source": [
    "#Age 21-31 :0 \n",
    "# Age 31-41 :2\n",
    "# Age 41-51 :3\n",
    "# Age 51-61 :4\n",
    "# Age 61>  :5"
   ]
  },
  {
   "cell_type": "code",
   "execution_count": 35,
   "id": "7abed163",
   "metadata": {},
   "outputs": [],
   "source": [
    "dfn['Age']=np.where(dfn['Age']<=31,0,dfn['Age'])\n",
    "dfn['Age']=np.where((dfn['Age']>31)&(dfn['Age']<=41),1,dfn['Age'])\n",
    "dfn['Age']=np.where((dfn['Age']>41)&(dfn['Age']<=51),2,dfn['Age'])\n",
    "dfn['Age']=np.where((dfn['Age']>51)&(dfn['Age']<=61),3,dfn['Age'])\n",
    "dfn['Age']=np.where(dfn['Age']>61,4,dfn['Age'])"
   ]
  },
  {
   "cell_type": "code",
   "execution_count": 36,
   "id": "575e4b00",
   "metadata": {},
   "outputs": [
    {
     "data": {
      "text/plain": [
       "<AxesSubplot:ylabel='Age'>"
      ]
     },
     "execution_count": 36,
     "metadata": {},
     "output_type": "execute_result"
    },
    {
     "data": {
      "image/png": "[encoded data removed]",
      "text/plain": [
       "<Figure size 432x288 with 1 Axes>"
      ]
     },
     "metadata": {},
     "output_type": "display_data"
    }
   ],
   "source": [
    "dfn[\"Age\"].value_counts().plot(kind=\"pie\", autopct=\"%.2f\")"
   ]
  },
  {
   "cell_type": "code",
   "execution_count": 37,
   "id": "617a1147",
   "metadata": {},
   "outputs": [
    {
     "data": {
      "text/html": [
       "<div>\n",
       "<style scoped>\n",
       "    .dataframe tbody tr th:only-of-type {\n",
       "        vertical-align: middle;\n",
       "    }\n",
       "\n",
       "    .dataframe tbody tr th {\n",
       "        vertical-align: top;\n",
       "    }\n",
       "\n",
       "    .dataframe thead th {\n",
       "        text-align: right;\n",
       "    }\n",
       "</style>\n",
       "<table border=\"1\" class=\"dataframe\">\n",
       "  <thead>\n",
       "    <tr style=\"text-align: right;\">\n",
       "      <th>Outcome</th>\n",
       "      <th>0</th>\n",
       "      <th>1</th>\n",
       "    </tr>\n",
       "    <tr>\n",
       "      <th>Age</th>\n",
       "      <th></th>\n",
       "      <th></th>\n",
       "    </tr>\n",
       "  </thead>\n",
       "  <tbody>\n",
       "    <tr>\n",
       "      <th>0</th>\n",
       "      <td>332</td>\n",
       "      <td>102</td>\n",
       "    </tr>\n",
       "    <tr>\n",
       "      <th>1</th>\n",
       "      <td>79</td>\n",
       "      <td>76</td>\n",
       "    </tr>\n",
       "    <tr>\n",
       "      <th>2</th>\n",
       "      <td>43</td>\n",
       "      <td>56</td>\n",
       "    </tr>\n",
       "    <tr>\n",
       "      <th>3</th>\n",
       "      <td>21</td>\n",
       "      <td>27</td>\n",
       "    </tr>\n",
       "    <tr>\n",
       "      <th>4</th>\n",
       "      <td>19</td>\n",
       "      <td>6</td>\n",
       "    </tr>\n",
       "  </tbody>\n",
       "</table>\n",
       "</div>"
      ],
      "text/plain": [
       "Outcome    0    1\n",
       "Age              \n",
       "0        332  102\n",
       "1         79   76\n",
       "2         43   56\n",
       "3         21   27\n",
       "4         19    6"
      ]
     },
     "execution_count": 37,
     "metadata": {},
     "output_type": "execute_result"
    }
   ],
   "source": [
    "dt=pd.crosstab(dfn['Age'],dfn['Outcome'])\n",
    "dt"
   ]
  },
  {
   "cell_type": "code",
   "execution_count": 38,
   "id": "473681a9",
   "metadata": {},
   "outputs": [
    {
     "data": {
      "text/plain": [
       "<AxesSubplot:xlabel='Age', ylabel='count'>"
      ]
     },
     "execution_count": 38,
     "metadata": {},
     "output_type": "execute_result"
    },
    {
     "data": {
      "image/png": "[encoded data removed]",
      "text/plain": [
       "<Figure size 432x288 with 1 Axes>"
      ]
     },
     "metadata": {
      "needs_background": "light"
     },
     "output_type": "display_data"
    }
   ],
   "source": [
    "sns.countplot(dfn['Age'], hue=dfn['Outcome'],palette=\"PiYG\", linewidth=1.0, edgecolor=\"navy\")"
   ]
  },
  {
   "cell_type": "markdown",
   "id": "75c58348",
   "metadata": {},
   "source": [
    "#### Pregnancy categorize"
   ]
  },
  {
   "cell_type": "code",
   "execution_count": 39,
   "id": "02967c84",
   "metadata": {},
   "outputs": [],
   "source": [
    "# Dividing Pregnancy into trimesters\n",
    "# 0\n",
    "# 1-3 :1\n",
    "# 4-6 :2\n",
    "# 6-9 :3\n",
    "# 10 :4"
   ]
  },
  {
   "cell_type": "code",
   "execution_count": 40,
   "id": "c4049e9b",
   "metadata": {},
   "outputs": [],
   "source": [
    "dfn['Pregnancies']=np.where(dfn['Pregnancies'].isin([1,2,3]),1,dfn['Pregnancies'])"
   ]
  },
  {
   "cell_type": "code",
   "execution_count": 41,
   "id": "76e7e64e",
   "metadata": {},
   "outputs": [],
   "source": [
    "dfn['Pregnancies']=np.where(dfn['Pregnancies'].isin([4,5,6]),2,dfn['Pregnancies'])"
   ]
  },
  {
   "cell_type": "code",
   "execution_count": 42,
   "id": "ad6fdbb9",
   "metadata": {},
   "outputs": [],
   "source": [
    "dfn['Pregnancies']=np.where(dfn['Pregnancies'].isin([7,8,9]),3,dfn['Pregnancies'])"
   ]
  },
  {
   "cell_type": "code",
   "execution_count": 43,
   "id": "58cf0772",
   "metadata": {},
   "outputs": [],
   "source": [
    "dfn['Pregnancies']=np.where(dfn['Pregnancies']==10,4,dfn['Pregnancies'])"
   ]
  },
  {
   "cell_type": "code",
   "execution_count": 44,
   "id": "ad7e4a7d",
   "metadata": {},
   "outputs": [
    {
     "data": {
      "text/plain": [
       "<AxesSubplot:ylabel='Pregnancies'>"
      ]
     },
     "execution_count": 44,
     "metadata": {},
     "output_type": "execute_result"
    },
    {
     "data": {
      "image/png": "[encoded data removed]",
      "text/plain": [
       "<Figure size 432x288 with 1 Axes>"
      ]
     },
     "metadata": {},
     "output_type": "display_data"
    }
   ],
   "source": [
    "dfn[\"Pregnancies\"].value_counts().plot(kind=\"pie\", autopct=\"%.2f\")"
   ]
  },
  {
   "cell_type": "markdown",
   "id": "a14003e4",
   "metadata": {},
   "source": [
    "#### BMI categorize"
   ]
  },
  {
   "cell_type": "code",
   "execution_count": 45,
   "id": "640d8f1e",
   "metadata": {},
   "outputs": [],
   "source": [
    "# Converting BMI into Categories\n",
    "# <18.5 (Under weight)    0\n",
    "# 18.5-24.9 (Healthy)     1\n",
    "# 25-29.9 (overweight)    2\n",
    "# >30  (Obese)            3"
   ]
  },
  {
   "cell_type": "code",
   "execution_count": 46,
   "id": "0a9dbac4",
   "metadata": {},
   "outputs": [],
   "source": [
    " dfn['BMI']=np.where(dfn['BMI']<=18.5,0,dfn['BMI'])"
   ]
  },
  {
   "cell_type": "code",
   "execution_count": 47,
   "id": "c69cafcf",
   "metadata": {},
   "outputs": [],
   "source": [
    "dfn['BMI']=np.where((dfn['BMI']>18.5)&(dfn['BMI']<24.9),1,dfn['BMI'])"
   ]
  },
  {
   "cell_type": "code",
   "execution_count": 48,
   "id": "429a025c",
   "metadata": {},
   "outputs": [],
   "source": [
    "dfn['BMI']=np.where((dfn['BMI']>=24.9)&(dfn['BMI']<=29.9),2,dfn['BMI'])"
   ]
  },
  {
   "cell_type": "code",
   "execution_count": 49,
   "id": "0c52c372",
   "metadata": {},
   "outputs": [],
   "source": [
    " dfn['BMI']=np.where(dfn['BMI']>=30,3,dfn['BMI'])"
   ]
  },
  {
   "cell_type": "code",
   "execution_count": 50,
   "id": "b1b4a947",
   "metadata": {},
   "outputs": [
    {
     "data": {
      "text/plain": [
       "<AxesSubplot:ylabel='BMI'>"
      ]
     },
     "execution_count": 50,
     "metadata": {},
     "output_type": "execute_result"
    },
    {
     "data": {
      "image/png": "[encoded data removed]",
      "text/plain": [
       "<Figure size 432x288 with 1 Axes>"
      ]
     },
     "metadata": {},
     "output_type": "display_data"
    }
   ],
   "source": [
    "dfn['BMI'].value_counts().plot(kind='pie',autopct='%.2f')"
   ]
  },
  {
   "cell_type": "markdown",
   "id": "84a05649",
   "metadata": {},
   "source": [
    "#### BloodPressure categorize"
   ]
  },
  {
   "cell_type": "code",
   "execution_count": 51,
   "id": "0566a56c",
   "metadata": {},
   "outputs": [],
   "source": [
    "# systolic vs diastolic pressure: Looks like we have diastolic pressure given"
   ]
  },
  {
   "cell_type": "code",
   "execution_count": 52,
   "id": "f068ff9e",
   "metadata": {},
   "outputs": [
    {
     "data": {
      "text/plain": [
       "<seaborn.axisgrid.FacetGrid at 0x20bdf655940>"
      ]
     },
     "execution_count": 52,
     "metadata": {},
     "output_type": "execute_result"
    },
    {
     "data": {
      "image/png": "[encoded data removed]",
      "text/plain": [
       "<Figure size 360x360 with 1 Axes>"
      ]
     },
     "metadata": {
      "needs_background": "light"
     },
     "output_type": "display_data"
    }
   ],
   "source": [
    "sns.displot(dfn['BloodPressure'],bins=20)"
   ]
  },
  {
   "cell_type": "code",
   "execution_count": 53,
   "id": "5acebb56",
   "metadata": {},
   "outputs": [
    {
     "data": {
      "image/png": "[encoded data removed]",
      "text/plain": [
       "<PIL.JpegImagePlugin.JpegImageFile image mode=RGB size=450x560 at 0x20BDFF231F0>"
      ]
     },
     "execution_count": 53,
     "metadata": {},
     "output_type": "execute_result"
    }
   ],
   "source": [
    "from PIL import Image\n",
    "img = Image.open(\"bp-range-chart.jpg\")\n",
    "img"
   ]
  },
  {
   "cell_type": "code",
   "execution_count": 54,
   "id": "7614d017",
   "metadata": {},
   "outputs": [],
   "source": [
    "# Categorizing Diastolic BP\n",
    "# 0-60    : 0\n",
    "# 60-80   : 1\n",
    "# 80-100  : 2\n",
    "# 100>    : 3"
   ]
  },
  {
   "cell_type": "code",
   "execution_count": 55,
   "id": "e8edd4fb",
   "metadata": {},
   "outputs": [],
   "source": [
    " dfn['BloodPressure']=np.where(dfn['BloodPressure']<=60,0,dfn['BloodPressure'])"
   ]
  },
  {
   "cell_type": "code",
   "execution_count": 56,
   "id": "9c439bf1",
   "metadata": {},
   "outputs": [],
   "source": [
    "dfn['BloodPressure']=np.where((dfn['BloodPressure']>60)&(dfn['BloodPressure']<=80),1,dfn['BloodPressure'])"
   ]
  },
  {
   "cell_type": "code",
   "execution_count": 57,
   "id": "320dfd4e",
   "metadata": {},
   "outputs": [],
   "source": [
    "dfn['BloodPressure']=np.where((dfn['BloodPressure']>80)&(dfn['BloodPressure']<=100),2,dfn['BloodPressure'])"
   ]
  },
  {
   "cell_type": "code",
   "execution_count": 58,
   "id": "5baddba1",
   "metadata": {},
   "outputs": [],
   "source": [
    "dfn['BloodPressure']=np.where(dfn['BloodPressure']>100,3,dfn['BloodPressure'])"
   ]
  },
  {
   "cell_type": "code",
   "execution_count": 59,
   "id": "823d985b",
   "metadata": {},
   "outputs": [
    {
     "data": {
      "text/plain": [
       "<AxesSubplot:ylabel='BloodPressure'>"
      ]
     },
     "execution_count": 59,
     "metadata": {},
     "output_type": "execute_result"
    },
    {
     "data": {
      "image/png": "[encoded data removed]",
      "text/plain": [
       "<Figure size 432x288 with 1 Axes>"
      ]
     },
     "metadata": {},
     "output_type": "display_data"
    }
   ],
   "source": [
    "dfn['BloodPressure'].value_counts().plot(kind='pie',autopct='%.2f')"
   ]
  },
  {
   "cell_type": "code",
   "execution_count": 63,
   "id": "d0cac03f",
   "metadata": {},
   "outputs": [],
   "source": [
    "dfn['GLC_log']=np.log1p(dfn['Glucose'])"
   ]
  },
  {
   "cell_type": "markdown",
   "id": "a3a1f0b7",
   "metadata": {},
   "source": [
    "#### SkinThickness Categorize"
   ]
  },
  {
   "cell_type": "code",
   "execution_count": null,
   "id": "d56bd925",
   "metadata": {},
   "outputs": [],
   "source": [
    "# <15 :0\n",
    "# 15-30 :1\n",
    "# 30-45 :2\n",
    "# 45> :3"
   ]
  },
  {
   "cell_type": "code",
   "execution_count": 65,
   "id": "48889072",
   "metadata": {},
   "outputs": [],
   "source": [
    " dfn['SkinThickness']=np.where(dfn['SkinThickness']<=15,0,dfn['SkinThickness'])"
   ]
  },
  {
   "cell_type": "code",
   "execution_count": 66,
   "id": "cfa6003d",
   "metadata": {},
   "outputs": [],
   "source": [
    "dfn['SkinThickness']=np.where((dfn['SkinThickness']>15)&(dfn['SkinThickness']<=30),1,dfn['SkinThickness'])"
   ]
  },
  {
   "cell_type": "code",
   "execution_count": 67,
   "id": "68f6348c",
   "metadata": {},
   "outputs": [],
   "source": [
    "dfn['SkinThickness']=np.where((dfn['SkinThickness']>30)&(dfn['SkinThickness']<=45),2,dfn['SkinThickness'])"
   ]
  },
  {
   "cell_type": "code",
   "execution_count": 69,
   "id": "efeb224f",
   "metadata": {},
   "outputs": [],
   "source": [
    "dfn['SkinThickness']=np.where(dfn['SkinThickness']>45,3,dfn['SkinThickness'])"
   ]
  },
  {
   "cell_type": "code",
   "execution_count": 136,
   "id": "510f60aa",
   "metadata": {},
   "outputs": [
    {
     "data": {
      "text/html": [
       "<div>\n",
       "<style scoped>\n",
       "    .dataframe tbody tr th:only-of-type {\n",
       "        vertical-align: middle;\n",
       "    }\n",
       "\n",
       "    .dataframe tbody tr th {\n",
       "        vertical-align: top;\n",
       "    }\n",
       "\n",
       "    .dataframe thead th {\n",
       "        text-align: right;\n",
       "    }\n",
       "</style>\n",
       "<table border=\"1\" class=\"dataframe\">\n",
       "  <thead>\n",
       "    <tr style=\"text-align: right;\">\n",
       "      <th></th>\n",
       "      <th>Pregnancies</th>\n",
       "      <th>Glucose</th>\n",
       "      <th>BloodPressure</th>\n",
       "      <th>SkinThickness</th>\n",
       "      <th>Insulin</th>\n",
       "      <th>BMI</th>\n",
       "      <th>DiabetesPedigreeFunction</th>\n",
       "      <th>Age</th>\n",
       "      <th>Outcome</th>\n",
       "      <th>GLC_log</th>\n",
       "      <th>Insulin_log</th>\n",
       "    </tr>\n",
       "  </thead>\n",
       "  <tbody>\n",
       "    <tr>\n",
       "      <th>0</th>\n",
       "      <td>2</td>\n",
       "      <td>148.0</td>\n",
       "      <td>1.0</td>\n",
       "      <td>2.0</td>\n",
       "      <td>36.0</td>\n",
       "      <td>3.0</td>\n",
       "      <td>0.627</td>\n",
       "      <td>2</td>\n",
       "      <td>1</td>\n",
       "      <td>5.003946</td>\n",
       "      <td>3.610918</td>\n",
       "    </tr>\n",
       "    <tr>\n",
       "      <th>1</th>\n",
       "      <td>1</td>\n",
       "      <td>85.0</td>\n",
       "      <td>1.0</td>\n",
       "      <td>1.0</td>\n",
       "      <td>36.0</td>\n",
       "      <td>2.0</td>\n",
       "      <td>0.351</td>\n",
       "      <td>0</td>\n",
       "      <td>0</td>\n",
       "      <td>4.454347</td>\n",
       "      <td>3.610918</td>\n",
       "    </tr>\n",
       "    <tr>\n",
       "      <th>2</th>\n",
       "      <td>3</td>\n",
       "      <td>183.0</td>\n",
       "      <td>1.0</td>\n",
       "      <td>1.0</td>\n",
       "      <td>36.0</td>\n",
       "      <td>1.0</td>\n",
       "      <td>0.672</td>\n",
       "      <td>1</td>\n",
       "      <td>1</td>\n",
       "      <td>5.214936</td>\n",
       "      <td>3.610918</td>\n",
       "    </tr>\n",
       "    <tr>\n",
       "      <th>3</th>\n",
       "      <td>1</td>\n",
       "      <td>89.0</td>\n",
       "      <td>1.0</td>\n",
       "      <td>1.0</td>\n",
       "      <td>94.0</td>\n",
       "      <td>2.0</td>\n",
       "      <td>0.167</td>\n",
       "      <td>0</td>\n",
       "      <td>0</td>\n",
       "      <td>4.499810</td>\n",
       "      <td>4.553877</td>\n",
       "    </tr>\n",
       "    <tr>\n",
       "      <th>4</th>\n",
       "      <td>0</td>\n",
       "      <td>137.0</td>\n",
       "      <td>0.0</td>\n",
       "      <td>2.0</td>\n",
       "      <td>168.0</td>\n",
       "      <td>3.0</td>\n",
       "      <td>1.000</td>\n",
       "      <td>1</td>\n",
       "      <td>1</td>\n",
       "      <td>4.927254</td>\n",
       "      <td>5.129899</td>\n",
       "    </tr>\n",
       "  </tbody>\n",
       "</table>\n",
       "</div>"
      ],
      "text/plain": [
       "   Pregnancies  Glucose  BloodPressure  SkinThickness  Insulin  BMI  \\\n",
       "0            2    148.0            1.0            2.0     36.0  3.0   \n",
       "1            1     85.0            1.0            1.0     36.0  2.0   \n",
       "2            3    183.0            1.0            1.0     36.0  1.0   \n",
       "3            1     89.0            1.0            1.0     94.0  2.0   \n",
       "4            0    137.0            0.0            2.0    168.0  3.0   \n",
       "\n",
       "   DiabetesPedigreeFunction  Age  Outcome   GLC_log  Insulin_log  \n",
       "0                     0.627    2        1  5.003946     3.610918  \n",
       "1                     0.351    0        0  4.454347     3.610918  \n",
       "2                     0.672    1        1  5.214936     3.610918  \n",
       "3                     0.167    0        0  4.499810     4.553877  \n",
       "4                     1.000    1        1  4.927254     5.129899  "
      ]
     },
     "execution_count": 136,
     "metadata": {},
     "output_type": "execute_result"
    }
   ],
   "source": [
    "dfn.head()"
   ]
  },
  {
   "cell_type": "code",
   "execution_count": 72,
   "id": "7766e5d7",
   "metadata": {},
   "outputs": [],
   "source": [
    "x=dfn.drop(columns=['Outcome','Glucose'])#,'SkinThickness'])\n",
    "y=dfn['Outcome']"
   ]
  },
  {
   "cell_type": "code",
   "execution_count": 73,
   "id": "61817cc3",
   "metadata": {},
   "outputs": [
    {
     "data": {
      "text/html": [
       "<div>\n",
       "<style scoped>\n",
       "    .dataframe tbody tr th:only-of-type {\n",
       "        vertical-align: middle;\n",
       "    }\n",
       "\n",
       "    .dataframe tbody tr th {\n",
       "        vertical-align: top;\n",
       "    }\n",
       "\n",
       "    .dataframe thead th {\n",
       "        text-align: right;\n",
       "    }\n",
       "</style>\n",
       "<table border=\"1\" class=\"dataframe\">\n",
       "  <thead>\n",
       "    <tr style=\"text-align: right;\">\n",
       "      <th></th>\n",
       "      <th>Pregnancies</th>\n",
       "      <th>BloodPressure</th>\n",
       "      <th>SkinThickness</th>\n",
       "      <th>Insulin</th>\n",
       "      <th>BMI</th>\n",
       "      <th>DiabetesPedigreeFunction</th>\n",
       "      <th>Age</th>\n",
       "      <th>GLC_log</th>\n",
       "    </tr>\n",
       "  </thead>\n",
       "  <tbody>\n",
       "    <tr>\n",
       "      <th>0</th>\n",
       "      <td>2</td>\n",
       "      <td>1.0</td>\n",
       "      <td>2.0</td>\n",
       "      <td>0</td>\n",
       "      <td>3.0</td>\n",
       "      <td>0.627</td>\n",
       "      <td>2</td>\n",
       "      <td>5.003946</td>\n",
       "    </tr>\n",
       "    <tr>\n",
       "      <th>1</th>\n",
       "      <td>1</td>\n",
       "      <td>1.0</td>\n",
       "      <td>1.0</td>\n",
       "      <td>0</td>\n",
       "      <td>2.0</td>\n",
       "      <td>0.351</td>\n",
       "      <td>0</td>\n",
       "      <td>4.454347</td>\n",
       "    </tr>\n",
       "    <tr>\n",
       "      <th>2</th>\n",
       "      <td>3</td>\n",
       "      <td>1.0</td>\n",
       "      <td>1.0</td>\n",
       "      <td>0</td>\n",
       "      <td>1.0</td>\n",
       "      <td>0.672</td>\n",
       "      <td>1</td>\n",
       "      <td>5.214936</td>\n",
       "    </tr>\n",
       "    <tr>\n",
       "      <th>3</th>\n",
       "      <td>1</td>\n",
       "      <td>1.0</td>\n",
       "      <td>1.0</td>\n",
       "      <td>94</td>\n",
       "      <td>2.0</td>\n",
       "      <td>0.167</td>\n",
       "      <td>0</td>\n",
       "      <td>4.499810</td>\n",
       "    </tr>\n",
       "    <tr>\n",
       "      <th>4</th>\n",
       "      <td>0</td>\n",
       "      <td>0.0</td>\n",
       "      <td>2.0</td>\n",
       "      <td>168</td>\n",
       "      <td>3.0</td>\n",
       "      <td>1.000</td>\n",
       "      <td>1</td>\n",
       "      <td>4.927254</td>\n",
       "    </tr>\n",
       "  </tbody>\n",
       "</table>\n",
       "</div>"
      ],
      "text/plain": [
       "   Pregnancies  BloodPressure  SkinThickness  Insulin  BMI  \\\n",
       "0            2            1.0            2.0        0  3.0   \n",
       "1            1            1.0            1.0        0  2.0   \n",
       "2            3            1.0            1.0        0  1.0   \n",
       "3            1            1.0            1.0       94  2.0   \n",
       "4            0            0.0            2.0      168  3.0   \n",
       "\n",
       "   DiabetesPedigreeFunction  Age   GLC_log  \n",
       "0                     0.627    2  5.003946  \n",
       "1                     0.351    0  4.454347  \n",
       "2                     0.672    1  5.214936  \n",
       "3                     0.167    0  4.499810  \n",
       "4                     1.000    1  4.927254  "
      ]
     },
     "execution_count": 73,
     "metadata": {},
     "output_type": "execute_result"
    }
   ],
   "source": [
    "x.head()"
   ]
  },
  {
   "cell_type": "markdown",
   "id": "bdc529a7",
   "metadata": {},
   "source": [
    "#### Modeling "
   ]
  },
  {
   "cell_type": "code",
   "execution_count": 74,
   "id": "25ad822c",
   "metadata": {},
   "outputs": [],
   "source": [
    "from sklearn.model_selection import train_test_split\n",
    "X_train, X_test, y_train, y_test = train_test_split(x, y, test_size=.2, random_state=88)"
   ]
  },
  {
   "cell_type": "code",
   "execution_count": 75,
   "id": "fdb15084",
   "metadata": {},
   "outputs": [],
   "source": [
    "from sklearn.ensemble import RandomForestClassifier"
   ]
  },
  {
   "cell_type": "code",
   "execution_count": 76,
   "id": "c2d9f113",
   "metadata": {},
   "outputs": [],
   "source": [
    "from sklearn.preprocessing import LabelEncoder\n",
    "from sklearn.preprocessing import OrdinalEncoder\n",
    "from sklearn.model_selection import GridSearchCV\n",
    "from sklearn.preprocessing import StandardScaler\n",
    "from sklearn.ensemble import RandomForestClassifier"
   ]
  },
  {
   "cell_type": "code",
   "execution_count": 77,
   "id": "6ac91f66",
   "metadata": {},
   "outputs": [
    {
     "name": "stdout",
     "output_type": "stream",
     "text": [
      "Best params: {'criterion': 'gini', 'max_depth': 6, 'max_features': 'auto', 'n_estimators': 32}\n",
      "Best Score: 0.756578947368421\n",
      "0.08270994027455648\n"
     ]
    }
   ],
   "source": [
    "import time\n",
    "t1 = time.time()\n",
    "\n",
    "parameters = {  \n",
    "    'n_estimators': [22,24,32],   \n",
    "    'max_features': ('sqrt','log2','auto'), \n",
    "    'max_depth':    (4,6,8),     \n",
    "    'criterion'   : ['gini', 'entropy'],\n",
    "}\n",
    "model = RandomForestClassifier()\n",
    "gridsearch = GridSearchCV(estimator = model,     \n",
    "                          param_grid = parameters, \n",
    "                          cv = 2,\n",
    "                          n_jobs = -1,\n",
    "                          return_train_score = False,\n",
    "                          scoring = \"accuracy\"      \n",
    "                         )\n",
    "gridsearch.fit(X_train, y_train)\n",
    "\n",
    "t2 = time.time()\n",
    "\n",
    "print('Best params: {}'.format(gridsearch.best_params_)) \n",
    "print('Best Score: {}'.format(gridsearch.best_score_))\n",
    "print((t2-t1)/60)"
   ]
  },
  {
   "cell_type": "code",
   "execution_count": 102,
   "id": "aaee7c1f",
   "metadata": {},
   "outputs": [
    {
     "data": {
      "text/plain": [
       "RandomForestClassifier(max_depth=6, n_estimators=32, random_state=9)"
      ]
     },
     "execution_count": 102,
     "metadata": {},
     "output_type": "execute_result"
    }
   ],
   "source": [
    "forest = RandomForestClassifier(n_estimators=32, max_depth=6, max_features='auto',criterion='gini',random_state=9)\n",
    "forest.fit(X_train,y_train)"
   ]
  },
  {
   "cell_type": "code",
   "execution_count": 103,
   "id": "4fabcac8",
   "metadata": {},
   "outputs": [
    {
     "name": "stdout",
     "output_type": "stream",
     "text": [
      "0.8470394736842105\n",
      "0.7450980392156863\n"
     ]
    }
   ],
   "source": [
    "print(forest.score(X_train,y_train))\n",
    "print(forest.score(X_test,y_test))"
   ]
  },
  {
   "cell_type": "code",
   "execution_count": null,
   "id": "3a82601f",
   "metadata": {},
   "outputs": [],
   "source": []
  },
  {
   "cell_type": "code",
   "execution_count": 104,
   "id": "7626761b",
   "metadata": {},
   "outputs": [],
   "source": [
    "# Test"
   ]
  },
  {
   "cell_type": "code",
   "execution_count": 218,
   "id": "6eeb9b02",
   "metadata": {},
   "outputs": [],
   "source": []
  },
  {
   "cell_type": "code",
   "execution_count": 220,
   "id": "45162581",
   "metadata": {},
   "outputs": [
    {
     "data": {
      "text/plain": [
       "0       36.0\n",
       "1       36.0\n",
       "2       36.0\n",
       "3       94.0\n",
       "4      168.0\n",
       "       ...  \n",
       "763    180.0\n",
       "764     36.0\n",
       "765    112.0\n",
       "766     36.0\n",
       "767     36.0\n",
       "Name: Insulin, Length: 761, dtype: float64"
      ]
     },
     "execution_count": 220,
     "metadata": {},
     "output_type": "execute_result"
    }
   ],
   "source": [
    "outlier_capping(dfn['Insulin'])"
   ]
  },
  {
   "cell_type": "code",
   "execution_count": 204,
   "id": "6561b883",
   "metadata": {},
   "outputs": [
    {
     "data": {
      "text/html": [
       "<div>\n",
       "<style scoped>\n",
       "    .dataframe tbody tr th:only-of-type {\n",
       "        vertical-align: middle;\n",
       "    }\n",
       "\n",
       "    .dataframe tbody tr th {\n",
       "        vertical-align: top;\n",
       "    }\n",
       "\n",
       "    .dataframe thead th {\n",
       "        text-align: right;\n",
       "    }\n",
       "</style>\n",
       "<table border=\"1\" class=\"dataframe\">\n",
       "  <thead>\n",
       "    <tr style=\"text-align: right;\">\n",
       "      <th></th>\n",
       "      <th>Var</th>\n",
       "      <th>VIF</th>\n",
       "    </tr>\n",
       "  </thead>\n",
       "  <tbody>\n",
       "    <tr>\n",
       "      <th>4</th>\n",
       "      <td>GLC_log</td>\n",
       "      <td>44.950011</td>\n",
       "    </tr>\n",
       "    <tr>\n",
       "      <th>5</th>\n",
       "      <td>Insulin_log</td>\n",
       "      <td>36.081045</td>\n",
       "    </tr>\n",
       "    <tr>\n",
       "      <th>1</th>\n",
       "      <td>BMI</td>\n",
       "      <td>13.267443</td>\n",
       "    </tr>\n",
       "    <tr>\n",
       "      <th>2</th>\n",
       "      <td>DiabetesPedigreeFunction</td>\n",
       "      <td>4.185774</td>\n",
       "    </tr>\n",
       "    <tr>\n",
       "      <th>0</th>\n",
       "      <td>Pregnancies</td>\n",
       "      <td>3.945663</td>\n",
       "    </tr>\n",
       "    <tr>\n",
       "      <th>3</th>\n",
       "      <td>Age</td>\n",
       "      <td>2.001869</td>\n",
       "    </tr>\n",
       "  </tbody>\n",
       "</table>\n",
       "</div>"
      ],
      "text/plain": [
       "                        Var        VIF\n",
       "4                   GLC_log  44.950011\n",
       "5               Insulin_log  36.081045\n",
       "1                       BMI  13.267443\n",
       "2  DiabetesPedigreeFunction   4.185774\n",
       "0               Pregnancies   3.945663\n",
       "3                       Age   2.001869"
      ]
     },
     "execution_count": 204,
     "metadata": {},
     "output_type": "execute_result"
    }
   ],
   "source": [
    "from statsmodels.stats.outliers_influence import variance_inflation_factor\n",
    "vif_data=pd.DataFrame()\n",
    "vif_data['Var']=x.columns\n",
    "vif_data['VIF']=[variance_inflation_factor(x.values,i) for i in range(len(x.columns))]\n",
    "vif_data.sort_values(by=['VIF'],ascending=False)"
   ]
  },
  {
   "cell_type": "code",
   "execution_count": 134,
   "id": "3cd8202b",
   "metadata": {},
   "outputs": [
    {
     "data": {
      "text/html": [
       "<div>\n",
       "<style scoped>\n",
       "    .dataframe tbody tr th:only-of-type {\n",
       "        vertical-align: middle;\n",
       "    }\n",
       "\n",
       "    .dataframe tbody tr th {\n",
       "        vertical-align: top;\n",
       "    }\n",
       "\n",
       "    .dataframe thead th {\n",
       "        text-align: right;\n",
       "    }\n",
       "</style>\n",
       "<table border=\"1\" class=\"dataframe\">\n",
       "  <thead>\n",
       "    <tr style=\"text-align: right;\">\n",
       "      <th></th>\n",
       "      <th>Pregnancies</th>\n",
       "      <th>Glucose</th>\n",
       "      <th>BloodPressure</th>\n",
       "      <th>SkinThickness</th>\n",
       "      <th>Insulin</th>\n",
       "      <th>BMI</th>\n",
       "      <th>DiabetesPedigreeFunction</th>\n",
       "      <th>Age</th>\n",
       "      <th>Outcome</th>\n",
       "      <th>GLC_log</th>\n",
       "      <th>Insulin_log</th>\n",
       "    </tr>\n",
       "  </thead>\n",
       "  <tbody>\n",
       "    <tr>\n",
       "      <th>Pregnancies</th>\n",
       "      <td>1.000000</td>\n",
       "      <td>0.113046</td>\n",
       "      <td>0.168574</td>\n",
       "      <td>0.048124</td>\n",
       "      <td>-0.046150</td>\n",
       "      <td>0.071926</td>\n",
       "      <td>-0.016605</td>\n",
       "      <td>0.482245</td>\n",
       "      <td>0.194057</td>\n",
       "      <td>0.109729</td>\n",
       "      <td>-0.074397</td>\n",
       "    </tr>\n",
       "    <tr>\n",
       "      <th>Glucose</th>\n",
       "      <td>0.113046</td>\n",
       "      <td>1.000000</td>\n",
       "      <td>0.216808</td>\n",
       "      <td>0.145868</td>\n",
       "      <td>0.359774</td>\n",
       "      <td>0.221734</td>\n",
       "      <td>0.104187</td>\n",
       "      <td>0.227448</td>\n",
       "      <td>0.491450</td>\n",
       "      <td>0.987764</td>\n",
       "      <td>0.302467</td>\n",
       "    </tr>\n",
       "    <tr>\n",
       "      <th>BloodPressure</th>\n",
       "      <td>0.168574</td>\n",
       "      <td>0.216808</td>\n",
       "      <td>1.000000</td>\n",
       "      <td>0.128196</td>\n",
       "      <td>-0.000411</td>\n",
       "      <td>0.203163</td>\n",
       "      <td>0.007148</td>\n",
       "      <td>0.257291</td>\n",
       "      <td>0.180474</td>\n",
       "      <td>0.217978</td>\n",
       "      <td>-0.028021</td>\n",
       "    </tr>\n",
       "    <tr>\n",
       "      <th>SkinThickness</th>\n",
       "      <td>0.048124</td>\n",
       "      <td>0.145868</td>\n",
       "      <td>0.128196</td>\n",
       "      <td>1.000000</td>\n",
       "      <td>0.217901</td>\n",
       "      <td>0.419856</td>\n",
       "      <td>0.102689</td>\n",
       "      <td>0.023099</td>\n",
       "      <td>0.178506</td>\n",
       "      <td>0.144786</td>\n",
       "      <td>0.242280</td>\n",
       "    </tr>\n",
       "    <tr>\n",
       "      <th>Insulin</th>\n",
       "      <td>-0.046150</td>\n",
       "      <td>0.359774</td>\n",
       "      <td>-0.000411</td>\n",
       "      <td>0.217901</td>\n",
       "      <td>1.000000</td>\n",
       "      <td>0.187303</td>\n",
       "      <td>0.160049</td>\n",
       "      <td>-0.019918</td>\n",
       "      <td>0.150226</td>\n",
       "      <td>0.351171</td>\n",
       "      <td>0.907495</td>\n",
       "    </tr>\n",
       "    <tr>\n",
       "      <th>BMI</th>\n",
       "      <td>0.071926</td>\n",
       "      <td>0.221734</td>\n",
       "      <td>0.203163</td>\n",
       "      <td>0.419856</td>\n",
       "      <td>0.187303</td>\n",
       "      <td>1.000000</td>\n",
       "      <td>0.114712</td>\n",
       "      <td>0.047160</td>\n",
       "      <td>0.313705</td>\n",
       "      <td>0.218082</td>\n",
       "      <td>0.200190</td>\n",
       "    </tr>\n",
       "    <tr>\n",
       "      <th>DiabetesPedigreeFunction</th>\n",
       "      <td>-0.016605</td>\n",
       "      <td>0.104187</td>\n",
       "      <td>0.007148</td>\n",
       "      <td>0.102689</td>\n",
       "      <td>0.160049</td>\n",
       "      <td>0.114712</td>\n",
       "      <td>1.000000</td>\n",
       "      <td>0.042552</td>\n",
       "      <td>0.180128</td>\n",
       "      <td>0.097547</td>\n",
       "      <td>0.193557</td>\n",
       "    </tr>\n",
       "    <tr>\n",
       "      <th>Age</th>\n",
       "      <td>0.482245</td>\n",
       "      <td>0.227448</td>\n",
       "      <td>0.257291</td>\n",
       "      <td>0.023099</td>\n",
       "      <td>-0.019918</td>\n",
       "      <td>0.047160</td>\n",
       "      <td>0.042552</td>\n",
       "      <td>1.000000</td>\n",
       "      <td>0.209816</td>\n",
       "      <td>0.217762</td>\n",
       "      <td>-0.076107</td>\n",
       "    </tr>\n",
       "    <tr>\n",
       "      <th>Outcome</th>\n",
       "      <td>0.194057</td>\n",
       "      <td>0.491450</td>\n",
       "      <td>0.180474</td>\n",
       "      <td>0.178506</td>\n",
       "      <td>0.150226</td>\n",
       "      <td>0.313705</td>\n",
       "      <td>0.180128</td>\n",
       "      <td>0.209816</td>\n",
       "      <td>1.000000</td>\n",
       "      <td>0.480512</td>\n",
       "      <td>0.123118</td>\n",
       "    </tr>\n",
       "    <tr>\n",
       "      <th>GLC_log</th>\n",
       "      <td>0.109729</td>\n",
       "      <td>0.987764</td>\n",
       "      <td>0.217978</td>\n",
       "      <td>0.144786</td>\n",
       "      <td>0.351171</td>\n",
       "      <td>0.218082</td>\n",
       "      <td>0.097547</td>\n",
       "      <td>0.217762</td>\n",
       "      <td>0.480512</td>\n",
       "      <td>1.000000</td>\n",
       "      <td>0.306190</td>\n",
       "    </tr>\n",
       "    <tr>\n",
       "      <th>Insulin_log</th>\n",
       "      <td>-0.074397</td>\n",
       "      <td>0.302467</td>\n",
       "      <td>-0.028021</td>\n",
       "      <td>0.242280</td>\n",
       "      <td>0.907495</td>\n",
       "      <td>0.200190</td>\n",
       "      <td>0.193557</td>\n",
       "      <td>-0.076107</td>\n",
       "      <td>0.123118</td>\n",
       "      <td>0.306190</td>\n",
       "      <td>1.000000</td>\n",
       "    </tr>\n",
       "  </tbody>\n",
       "</table>\n",
       "</div>"
      ],
      "text/plain": [
       "                          Pregnancies   Glucose  BloodPressure  SkinThickness  \\\n",
       "Pregnancies                  1.000000  0.113046       0.168574       0.048124   \n",
       "Glucose                      0.113046  1.000000       0.216808       0.145868   \n",
       "BloodPressure                0.168574  0.216808       1.000000       0.128196   \n",
       "SkinThickness                0.048124  0.145868       0.128196       1.000000   \n",
       "Insulin                     -0.046150  0.359774      -0.000411       0.217901   \n",
       "BMI                          0.071926  0.221734       0.203163       0.419856   \n",
       "DiabetesPedigreeFunction    -0.016605  0.104187       0.007148       0.102689   \n",
       "Age                          0.482245  0.227448       0.257291       0.023099   \n",
       "Outcome                      0.194057  0.491450       0.180474       0.178506   \n",
       "GLC_log                      0.109729  0.987764       0.217978       0.144786   \n",
       "Insulin_log                 -0.074397  0.302467      -0.028021       0.242280   \n",
       "\n",
       "                           Insulin       BMI  DiabetesPedigreeFunction  \\\n",
       "Pregnancies              -0.046150  0.071926                 -0.016605   \n",
       "Glucose                   0.359774  0.221734                  0.104187   \n",
       "BloodPressure            -0.000411  0.203163                  0.007148   \n",
       "SkinThickness             0.217901  0.419856                  0.102689   \n",
       "Insulin                   1.000000  0.187303                  0.160049   \n",
       "BMI                       0.187303  1.000000                  0.114712   \n",
       "DiabetesPedigreeFunction  0.160049  0.114712                  1.000000   \n",
       "Age                      -0.019918  0.047160                  0.042552   \n",
       "Outcome                   0.150226  0.313705                  0.180128   \n",
       "GLC_log                   0.351171  0.218082                  0.097547   \n",
       "Insulin_log               0.907495  0.200190                  0.193557   \n",
       "\n",
       "                               Age   Outcome   GLC_log  Insulin_log  \n",
       "Pregnancies               0.482245  0.194057  0.109729    -0.074397  \n",
       "Glucose                   0.227448  0.491450  0.987764     0.302467  \n",
       "BloodPressure             0.257291  0.180474  0.217978    -0.028021  \n",
       "SkinThickness             0.023099  0.178506  0.144786     0.242280  \n",
       "Insulin                  -0.019918  0.150226  0.351171     0.907495  \n",
       "BMI                       0.047160  0.313705  0.218082     0.200190  \n",
       "DiabetesPedigreeFunction  0.042552  0.180128  0.097547     0.193557  \n",
       "Age                       1.000000  0.209816  0.217762    -0.076107  \n",
       "Outcome                   0.209816  1.000000  0.480512     0.123118  \n",
       "GLC_log                   0.217762  0.480512  1.000000     0.306190  \n",
       "Insulin_log              -0.076107  0.123118  0.306190     1.000000  "
      ]
     },
     "execution_count": 134,
     "metadata": {},
     "output_type": "execute_result"
    }
   ],
   "source": []
  },
  {
   "cell_type": "code",
   "execution_count": 127,
   "id": "13ae1663",
   "metadata": {},
   "outputs": [
    {
     "data": {
      "text/html": [
       "<div>\n",
       "<style scoped>\n",
       "    .dataframe tbody tr th:only-of-type {\n",
       "        vertical-align: middle;\n",
       "    }\n",
       "\n",
       "    .dataframe tbody tr th {\n",
       "        vertical-align: top;\n",
       "    }\n",
       "\n",
       "    .dataframe thead th {\n",
       "        text-align: right;\n",
       "    }\n",
       "</style>\n",
       "<table border=\"1\" class=\"dataframe\">\n",
       "  <thead>\n",
       "    <tr style=\"text-align: right;\">\n",
       "      <th></th>\n",
       "      <th>Pregnancies</th>\n",
       "      <th>Glucose</th>\n",
       "      <th>BloodPressure</th>\n",
       "      <th>SkinThickness</th>\n",
       "      <th>Insulin</th>\n",
       "      <th>BMI</th>\n",
       "      <th>DiabetesPedigreeFunction</th>\n",
       "      <th>Age</th>\n",
       "      <th>Outcome</th>\n",
       "      <th>GLC_log</th>\n",
       "      <th>Insulin_log</th>\n",
       "    </tr>\n",
       "  </thead>\n",
       "  <tbody>\n",
       "    <tr>\n",
       "      <th>0</th>\n",
       "      <td>2</td>\n",
       "      <td>148.0</td>\n",
       "      <td>1.0</td>\n",
       "      <td>2.0</td>\n",
       "      <td>36.0</td>\n",
       "      <td>3.0</td>\n",
       "      <td>0.627</td>\n",
       "      <td>2</td>\n",
       "      <td>1</td>\n",
       "      <td>5.003946</td>\n",
       "      <td>3.610918</td>\n",
       "    </tr>\n",
       "    <tr>\n",
       "      <th>1</th>\n",
       "      <td>1</td>\n",
       "      <td>85.0</td>\n",
       "      <td>1.0</td>\n",
       "      <td>1.0</td>\n",
       "      <td>36.0</td>\n",
       "      <td>2.0</td>\n",
       "      <td>0.351</td>\n",
       "      <td>0</td>\n",
       "      <td>0</td>\n",
       "      <td>4.454347</td>\n",
       "      <td>3.610918</td>\n",
       "    </tr>\n",
       "    <tr>\n",
       "      <th>2</th>\n",
       "      <td>3</td>\n",
       "      <td>183.0</td>\n",
       "      <td>1.0</td>\n",
       "      <td>1.0</td>\n",
       "      <td>36.0</td>\n",
       "      <td>1.0</td>\n",
       "      <td>0.672</td>\n",
       "      <td>1</td>\n",
       "      <td>1</td>\n",
       "      <td>5.214936</td>\n",
       "      <td>3.610918</td>\n",
       "    </tr>\n",
       "    <tr>\n",
       "      <th>3</th>\n",
       "      <td>1</td>\n",
       "      <td>89.0</td>\n",
       "      <td>1.0</td>\n",
       "      <td>1.0</td>\n",
       "      <td>94.0</td>\n",
       "      <td>2.0</td>\n",
       "      <td>0.167</td>\n",
       "      <td>0</td>\n",
       "      <td>0</td>\n",
       "      <td>4.499810</td>\n",
       "      <td>4.553877</td>\n",
       "    </tr>\n",
       "    <tr>\n",
       "      <th>4</th>\n",
       "      <td>0</td>\n",
       "      <td>137.0</td>\n",
       "      <td>0.0</td>\n",
       "      <td>2.0</td>\n",
       "      <td>168.0</td>\n",
       "      <td>3.0</td>\n",
       "      <td>1.000</td>\n",
       "      <td>1</td>\n",
       "      <td>1</td>\n",
       "      <td>4.927254</td>\n",
       "      <td>5.129899</td>\n",
       "    </tr>\n",
       "  </tbody>\n",
       "</table>\n",
       "</div>"
      ],
      "text/plain": [
       "   Pregnancies  Glucose  BloodPressure  SkinThickness  Insulin  BMI  \\\n",
       "0            2    148.0            1.0            2.0     36.0  3.0   \n",
       "1            1     85.0            1.0            1.0     36.0  2.0   \n",
       "2            3    183.0            1.0            1.0     36.0  1.0   \n",
       "3            1     89.0            1.0            1.0     94.0  2.0   \n",
       "4            0    137.0            0.0            2.0    168.0  3.0   \n",
       "\n",
       "   DiabetesPedigreeFunction  Age  Outcome   GLC_log  Insulin_log  \n",
       "0                     0.627    2        1  5.003946     3.610918  \n",
       "1                     0.351    0        0  4.454347     3.610918  \n",
       "2                     0.672    1        1  5.214936     3.610918  \n",
       "3                     0.167    0        0  4.499810     4.553877  \n",
       "4                     1.000    1        1  4.927254     5.129899  "
      ]
     },
     "execution_count": 127,
     "metadata": {},
     "output_type": "execute_result"
    }
   ],
   "source": [
    "dfn.head()"
   ]
  },
  {
   "cell_type": "code",
   "execution_count": 221,
   "id": "0089a6b4",
   "metadata": {},
   "outputs": [],
   "source": [
    "dfn['Insulin_log']=np.log1p(dfn['Insulin'])"
   ]
  },
  {
   "cell_type": "code",
   "execution_count": 222,
   "id": "2865491b",
   "metadata": {},
   "outputs": [],
   "source": [
    "x=dfn.drop(columns=['Outcome','Glucose','Insulin','BloodPressure','SkinThickness']) #Skinthickness and BloodPressure removed\n",
    "y=dfn['Outcome']"
   ]
  },
  {
   "cell_type": "code",
   "execution_count": 223,
   "id": "792e793a",
   "metadata": {},
   "outputs": [],
   "source": [
    "from sklearn.model_selection import train_test_split\n",
    "X_train, X_test, y_train, y_test = train_test_split(x, y, test_size=.2, random_state=9)"
   ]
  },
  {
   "cell_type": "code",
   "execution_count": 224,
   "id": "f01aa1c0",
   "metadata": {},
   "outputs": [
    {
     "name": "stdout",
     "output_type": "stream",
     "text": [
      "Best params: {'criterion': 'gini', 'max_depth': 3, 'max_features': 'log2', 'n_estimators': 20}\n",
      "Best Score: 0.7828947368421053\n",
      "0.08392897049585978\n"
     ]
    }
   ],
   "source": [
    "import time\n",
    "t1 = time.time()\n",
    "\n",
    "parameters = {  \n",
    "    'n_estimators': [20,22,24],   \n",
    "    'max_features': ('sqrt','log2','auto'), \n",
    "    'max_depth':    (3,4,6),     \n",
    "    'criterion'   : ['gini', 'entropy'],\n",
    "}\n",
    "model = RandomForestClassifier()\n",
    "gridsearch = GridSearchCV(estimator = model,     \n",
    "                          param_grid = parameters, \n",
    "                          cv = 2,\n",
    "                          n_jobs = -1,\n",
    "                          return_train_score = False,\n",
    "                          scoring = \"accuracy\"      \n",
    "                         )\n",
    "gridsearch.fit(X_train, y_train)\n",
    "\n",
    "t2 = time.time()\n",
    "\n",
    "print('Best params: {}'.format(gridsearch.best_params_)) \n",
    "print('Best Score: {}'.format(gridsearch.best_score_))\n",
    "print((t2-t1)/60)"
   ]
  },
  {
   "cell_type": "code",
   "execution_count": 225,
   "id": "cccdb372",
   "metadata": {},
   "outputs": [
    {
     "data": {
      "text/plain": [
       "RandomForestClassifier(max_depth=3, max_features='log2', n_estimators=20,\n",
       "                       random_state=9)"
      ]
     },
     "execution_count": 225,
     "metadata": {},
     "output_type": "execute_result"
    }
   ],
   "source": [
    "forest = RandomForestClassifier(n_estimators=20, max_depth=3, max_features='log2',criterion='gini',random_state=9)\n",
    "forest.fit(X_train,y_train)"
   ]
  },
  {
   "cell_type": "code",
   "execution_count": 226,
   "id": "c9546e9b",
   "metadata": {},
   "outputs": [
    {
     "name": "stdout",
     "output_type": "stream",
     "text": [
      "0.8042763157894737\n",
      "0.7254901960784313\n"
     ]
    }
   ],
   "source": [
    "print(forest.score(X_train,y_train))\n",
    "print(forest.score(X_test,y_test))"
   ]
  },
  {
   "cell_type": "code",
   "execution_count": null,
   "id": "ac27393d",
   "metadata": {},
   "outputs": [],
   "source": []
  },
  {
   "cell_type": "markdown",
   "id": "c5df2cc7",
   "metadata": {},
   "source": [
    "#### Logistics"
   ]
  },
  {
   "cell_type": "code",
   "execution_count": 137,
   "id": "d79e0848",
   "metadata": {},
   "outputs": [],
   "source": [
    "from sklearn import metrics\n",
    "from sklearn.linear_model import LogisticRegression"
   ]
  },
  {
   "cell_type": "code",
   "execution_count": 138,
   "id": "0d05e385",
   "metadata": {},
   "outputs": [],
   "source": [
    "log=LogisticRegression(max_iter=1000)"
   ]
  },
  {
   "cell_type": "code",
   "execution_count": 139,
   "id": "2a81ed45",
   "metadata": {},
   "outputs": [
    {
     "data": {
      "text/plain": [
       "LogisticRegression(max_iter=1000)"
      ]
     },
     "execution_count": 139,
     "metadata": {},
     "output_type": "execute_result"
    }
   ],
   "source": [
    "log.fit(X_train,y_train)"
   ]
  },
  {
   "cell_type": "code",
   "execution_count": 140,
   "id": "9bbb1973",
   "metadata": {},
   "outputs": [
    {
     "data": {
      "text/plain": [
       "0.7763157894736842"
      ]
     },
     "execution_count": 140,
     "metadata": {},
     "output_type": "execute_result"
    }
   ],
   "source": [
    "log.score(X_train,y_train) #gives accuracy for the test data"
   ]
  },
  {
   "cell_type": "code",
   "execution_count": 141,
   "id": "4ff75a04",
   "metadata": {},
   "outputs": [
    {
     "data": {
      "text/plain": [
       "0.738562091503268"
      ]
     },
     "execution_count": 141,
     "metadata": {},
     "output_type": "execute_result"
    }
   ],
   "source": [
    "log.score(X_test,y_test) # gives accuracy for test data"
   ]
  },
  {
   "cell_type": "markdown",
   "id": "4eefbd69",
   "metadata": {},
   "source": [
    "#### Confusion matrix"
   ]
  },
  {
   "cell_type": "code",
   "execution_count": 142,
   "id": "88b991fe",
   "metadata": {},
   "outputs": [],
   "source": [
    "pred_train=log.predict(X_train)\n",
    "Pred_test=log.predict(X_test)"
   ]
  },
  {
   "cell_type": "code",
   "execution_count": 143,
   "id": "770f18fc",
   "metadata": {},
   "outputs": [
    {
     "data": {
      "text/html": [
       "<div>\n",
       "<style scoped>\n",
       "    .dataframe tbody tr th:only-of-type {\n",
       "        vertical-align: middle;\n",
       "    }\n",
       "\n",
       "    .dataframe tbody tr th {\n",
       "        vertical-align: top;\n",
       "    }\n",
       "\n",
       "    .dataframe thead th {\n",
       "        text-align: right;\n",
       "    }\n",
       "</style>\n",
       "<table border=\"1\" class=\"dataframe\">\n",
       "  <thead>\n",
       "    <tr style=\"text-align: right;\">\n",
       "      <th></th>\n",
       "      <th>Pred_0</th>\n",
       "      <th>Pred_1</th>\n",
       "    </tr>\n",
       "  </thead>\n",
       "  <tbody>\n",
       "    <tr>\n",
       "      <th>act_0</th>\n",
       "      <td>353</td>\n",
       "      <td>45</td>\n",
       "    </tr>\n",
       "    <tr>\n",
       "      <th>act_1</th>\n",
       "      <td>91</td>\n",
       "      <td>119</td>\n",
       "    </tr>\n",
       "  </tbody>\n",
       "</table>\n",
       "</div>"
      ],
      "text/plain": [
       "       Pred_0  Pred_1\n",
       "act_0     353      45\n",
       "act_1      91     119"
      ]
     },
     "execution_count": 143,
     "metadata": {},
     "output_type": "execute_result"
    }
   ],
   "source": [
    "cnf=pd.DataFrame(metrics.confusion_matrix(y_train,pred_train),columns=['Pred_0','Pred_1'],index=['act_0','act_1'])\n",
    "cnf"
   ]
  },
  {
   "cell_type": "code",
   "execution_count": 144,
   "id": "a20eccd8",
   "metadata": {},
   "outputs": [
    {
     "name": "stdout",
     "output_type": "stream",
     "text": [
      "              precision    recall  f1-score   support\n",
      "\n",
      "           0       0.80      0.89      0.84       398\n",
      "           1       0.73      0.57      0.64       210\n",
      "\n",
      "    accuracy                           0.78       608\n",
      "   macro avg       0.76      0.73      0.74       608\n",
      "weighted avg       0.77      0.78      0.77       608\n",
      "\n"
     ]
    }
   ],
   "source": [
    "print(metrics.classification_report(y_train,pred_train))  "
   ]
  },
  {
   "cell_type": "code",
   "execution_count": 145,
   "id": "f068568f",
   "metadata": {},
   "outputs": [
    {
     "name": "stdout",
     "output_type": "stream",
     "text": [
      "              precision    recall  f1-score   support\n",
      "\n",
      "           0       0.75      0.89      0.81        96\n",
      "           1       0.72      0.49      0.58        57\n",
      "\n",
      "    accuracy                           0.74       153\n",
      "   macro avg       0.73      0.69      0.70       153\n",
      "weighted avg       0.74      0.74      0.73       153\n",
      "\n"
     ]
    }
   ],
   "source": [
    "print(metrics.classification_report(y_test,Pred_test)) "
   ]
  },
  {
   "cell_type": "code",
   "execution_count": null,
   "id": "162a3096",
   "metadata": {},
   "outputs": [],
   "source": []
  }
 ],
 "metadata": {
  "kernelspec": {
   "display_name": "Python 3 (ipykernel)",
   "language": "python",
   "name": "python3"
  },
  "language_info": {
   "codemirror_mode": {
    "name": "ipython",
    "version": 3
   },
   "file_extension": ".py",
   "mimetype": "text/x-python",
   "name": "python",
   "nbconvert_exporter": "python",
   "pygments_lexer": "ipython3",
   "version": "3.9.7"
  }
 },
 "nbformat": 4,
 "nbformat_minor": 5
}
